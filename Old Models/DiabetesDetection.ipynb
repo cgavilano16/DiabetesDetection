{
 "cells": [
  {
   "cell_type": "markdown",
   "metadata": {},
   "source": [
    "# Midterm Project: Diabetes Detection"
   ]
  },
  {
   "cell_type": "markdown",
   "metadata": {},
   "source": [
    "## Loading Database"
   ]
  },
  {
   "cell_type": "code",
   "execution_count": 1,
   "metadata": {},
   "outputs": [],
   "source": [
    "#import pandas\n",
    "import pandas as pd\n",
    "#loading csv file\n",
    "patients = pd.read_csv(\"diabetes-dataset.csv\")"
   ]
  },
  {
   "cell_type": "code",
   "execution_count": 2,
   "metadata": {},
   "outputs": [
    {
     "data": {
      "text/html": [
       "<div>\n",
       "<style scoped>\n",
       "    .dataframe tbody tr th:only-of-type {\n",
       "        vertical-align: middle;\n",
       "    }\n",
       "\n",
       "    .dataframe tbody tr th {\n",
       "        vertical-align: top;\n",
       "    }\n",
       "\n",
       "    .dataframe thead th {\n",
       "        text-align: right;\n",
       "    }\n",
       "</style>\n",
       "<table border=\"1\" class=\"dataframe\">\n",
       "  <thead>\n",
       "    <tr style=\"text-align: right;\">\n",
       "      <th></th>\n",
       "      <th>Pregnancies</th>\n",
       "      <th>Glucose</th>\n",
       "      <th>BloodPressure</th>\n",
       "      <th>SkinThickness</th>\n",
       "      <th>Insulin</th>\n",
       "      <th>BMI</th>\n",
       "      <th>DiabetesPedigreeFunction</th>\n",
       "      <th>Age</th>\n",
       "      <th>Outcome</th>\n",
       "    </tr>\n",
       "  </thead>\n",
       "  <tbody>\n",
       "    <tr>\n",
       "      <th>0</th>\n",
       "      <td>2</td>\n",
       "      <td>138</td>\n",
       "      <td>62</td>\n",
       "      <td>35</td>\n",
       "      <td>0</td>\n",
       "      <td>33.6</td>\n",
       "      <td>0.127</td>\n",
       "      <td>47</td>\n",
       "      <td>1</td>\n",
       "    </tr>\n",
       "    <tr>\n",
       "      <th>1</th>\n",
       "      <td>0</td>\n",
       "      <td>84</td>\n",
       "      <td>82</td>\n",
       "      <td>31</td>\n",
       "      <td>125</td>\n",
       "      <td>38.2</td>\n",
       "      <td>0.233</td>\n",
       "      <td>23</td>\n",
       "      <td>0</td>\n",
       "    </tr>\n",
       "    <tr>\n",
       "      <th>2</th>\n",
       "      <td>0</td>\n",
       "      <td>145</td>\n",
       "      <td>0</td>\n",
       "      <td>0</td>\n",
       "      <td>0</td>\n",
       "      <td>44.2</td>\n",
       "      <td>0.630</td>\n",
       "      <td>31</td>\n",
       "      <td>1</td>\n",
       "    </tr>\n",
       "    <tr>\n",
       "      <th>3</th>\n",
       "      <td>0</td>\n",
       "      <td>135</td>\n",
       "      <td>68</td>\n",
       "      <td>42</td>\n",
       "      <td>250</td>\n",
       "      <td>42.3</td>\n",
       "      <td>0.365</td>\n",
       "      <td>24</td>\n",
       "      <td>1</td>\n",
       "    </tr>\n",
       "    <tr>\n",
       "      <th>4</th>\n",
       "      <td>1</td>\n",
       "      <td>139</td>\n",
       "      <td>62</td>\n",
       "      <td>41</td>\n",
       "      <td>480</td>\n",
       "      <td>40.7</td>\n",
       "      <td>0.536</td>\n",
       "      <td>21</td>\n",
       "      <td>0</td>\n",
       "    </tr>\n",
       "  </tbody>\n",
       "</table>\n",
       "</div>"
      ],
      "text/plain": [
       "   Pregnancies  Glucose  BloodPressure  SkinThickness  Insulin   BMI  \\\n",
       "0            2      138             62             35        0  33.6   \n",
       "1            0       84             82             31      125  38.2   \n",
       "2            0      145              0              0        0  44.2   \n",
       "3            0      135             68             42      250  42.3   \n",
       "4            1      139             62             41      480  40.7   \n",
       "\n",
       "   DiabetesPedigreeFunction  Age  Outcome  \n",
       "0                     0.127   47        1  \n",
       "1                     0.233   23        0  \n",
       "2                     0.630   31        1  \n",
       "3                     0.365   24        1  \n",
       "4                     0.536   21        0  "
      ]
     },
     "execution_count": 2,
     "metadata": {},
     "output_type": "execute_result"
    }
   ],
   "source": [
    "patients.head()"
   ]
  },
  {
   "cell_type": "markdown",
   "metadata": {},
   "source": [
    "##"
   ]
  },
  {
   "cell_type": "markdown",
   "metadata": {},
   "source": [
    "## Checking for Null Values"
   ]
  },
  {
   "cell_type": "code",
   "execution_count": 3,
   "metadata": {},
   "outputs": [
    {
     "data": {
      "text/plain": [
       "Pregnancies                 0\n",
       "Glucose                     0\n",
       "BloodPressure               0\n",
       "SkinThickness               0\n",
       "Insulin                     0\n",
       "BMI                         0\n",
       "DiabetesPedigreeFunction    0\n",
       "Age                         0\n",
       "Outcome                     0\n",
       "dtype: int64"
      ]
     },
     "execution_count": 3,
     "metadata": {},
     "output_type": "execute_result"
    }
   ],
   "source": [
    "#Check how many Null Values in each Column\n",
    "patients.isnull().sum()"
   ]
  },
  {
   "cell_type": "markdown",
   "metadata": {},
   "source": [
    "## Identifying Features and Target Variables"
   ]
  },
  {
   "cell_type": "code",
   "execution_count": 4,
   "metadata": {},
   "outputs": [],
   "source": [
    "#split dataset into features and target variables\n",
    "feature_cols = ['Pregnancies', 'Glucose', 'BloodPressure', 'SkinThickness', 'Insulin', 'BMI', 'DiabetesPedigreeFunction', 'Age']\n",
    "X = patients[feature_cols]  #features\n",
    "y = patients.Outcome     #target"
   ]
  },
  {
   "cell_type": "markdown",
   "metadata": {},
   "source": [
    "## Splitting Data into Training and Testing Data"
   ]
  },
  {
   "cell_type": "code",
   "execution_count": 5,
   "metadata": {},
   "outputs": [],
   "source": [
    "# split X and y into training and testing sets\n",
    "from sklearn.model_selection import train_test_split\n",
    "\n",
    "X_train, X_test, y_train, y_test = train_test_split(X, y, test_size=0.2)"
   ]
  },
  {
   "cell_type": "markdown",
   "metadata": {},
   "source": [
    "## Training Logistic Regression Model"
   ]
  },
  {
   "cell_type": "code",
   "execution_count": 6,
   "metadata": {},
   "outputs": [
    {
     "data": {
      "text/plain": [
       "LogisticRegression(max_iter=2001)"
      ]
     },
     "execution_count": 6,
     "metadata": {},
     "output_type": "execute_result"
    }
   ],
   "source": [
    "# import the class\n",
    "from sklearn.linear_model import LogisticRegression\n",
    "# instantiate the model (using the default parameters)\n",
    "logreg = LogisticRegression(solver='lbfgs', max_iter=2001)\n",
    "\n",
    "# fit the model with data\n",
    "logreg.fit(X_train,y_train)"
   ]
  },
  {
   "cell_type": "markdown",
   "metadata": {},
   "source": [
    "## Training SVM Model"
   ]
  },
  {
   "cell_type": "code",
   "execution_count": 7,
   "metadata": {},
   "outputs": [
    {
     "data": {
      "text/plain": [
       "SVC(kernel='linear')"
      ]
     },
     "execution_count": 7,
     "metadata": {},
     "output_type": "execute_result"
    }
   ],
   "source": [
    "#import svm model\n",
    "from sklearn import svm\n",
    "\n",
    "#create a svm Classifier\n",
    "clf = svm.SVC(kernel='linear') #Linear Kernel\n",
    "\n",
    "#Train the model using the trainings sets\n",
    "clf.fit(X_train, y_train)"
   ]
  },
  {
   "cell_type": "markdown",
   "metadata": {},
   "source": [
    "## Training Decision Tree Model"
   ]
  },
  {
   "cell_type": "code",
   "execution_count": 8,
   "metadata": {},
   "outputs": [
    {
     "data": {
      "text/plain": [
       "DecisionTreeClassifier()"
      ]
     },
     "execution_count": 8,
     "metadata": {},
     "output_type": "execute_result"
    }
   ],
   "source": [
    "from sklearn.tree import DecisionTreeClassifier\n",
    "classifier = DecisionTreeClassifier()\n",
    "classifier.fit(X_train, y_train)"
   ]
  },
  {
   "cell_type": "markdown",
   "metadata": {},
   "source": [
    "## Prediction with Log. Regression, SVM, and Decision Tree"
   ]
  },
  {
   "cell_type": "code",
   "execution_count": 9,
   "metadata": {},
   "outputs": [],
   "source": [
    "#Predict the response for test datasets\n",
    "y_pred_svm = clf.predict(X_test)\n",
    "\n",
    "y_pred_log = logreg.predict(X_test)\n",
    "\n",
    "y_pred_tree = classifier.predict(X_test)\n",
    "\n",
    "# compute the accuracy\n",
    "import numpy as np\n",
    "accuracy_svm = np.sum(y_pred_svm == y_test) / len(y_test)\n",
    "\n",
    "accuracy_log = np.sum(y_pred_log == y_test) / len(y_test)\n",
    "\n",
    "accuracy_tree = np.sum(y_pred_tree == y_test) / len(y_test)"
   ]
  },
  {
   "cell_type": "markdown",
   "metadata": {},
   "source": [
    "## Training Neural Network"
   ]
  },
  {
   "cell_type": "code",
   "execution_count": 10,
   "metadata": {},
   "outputs": [],
   "source": [
    "from sklearn.preprocessing import MinMaxScaler\n",
    "scalar = MinMaxScaler()\n",
    "scalar.fit(X)\n",
    "X = scalar.transform(X)"
   ]
  },
  {
   "cell_type": "code",
   "execution_count": 11,
   "metadata": {},
   "outputs": [],
   "source": [
    "from sklearn.model_selection import train_test_split\n",
    "X_train, X_test, y_train, y_test = train_test_split(X, y, test_size = 0.2)"
   ]
  },
  {
   "cell_type": "code",
   "execution_count": 12,
   "metadata": {},
   "outputs": [
    {
     "data": {
      "text/plain": [
       "(1600, 8)"
      ]
     },
     "execution_count": 12,
     "metadata": {},
     "output_type": "execute_result"
    }
   ],
   "source": [
    "X_train.shape"
   ]
  },
  {
   "cell_type": "code",
   "execution_count": 13,
   "metadata": {},
   "outputs": [],
   "source": [
    "from tensorflow.keras.models import Sequential\n",
    "from tensorflow.keras.layers import Dense\n",
    "\n",
    "model = Sequential()\n",
    "model.add(Dense(16, input_dim = 8, activation = 'relu'))\n",
    "model.add(Dense(7, activation='relu'))\n",
    "model.add(Dense(2, activation='relu'))\n",
    "#model.add(Dense(6, activation='relu'))\n",
    "model.add(Dense(1, activation='sigmoid'))"
   ]
  },
  {
   "cell_type": "code",
   "execution_count": 14,
   "metadata": {},
   "outputs": [],
   "source": [
    "model.compile(loss='binary_crossentropy', optimizer='adam', metrics=['accuracy'])"
   ]
  },
  {
   "cell_type": "code",
   "execution_count": 15,
   "metadata": {},
   "outputs": [
    {
     "name": "stdout",
     "output_type": "stream",
     "text": [
      "Model: \"sequential\"\n",
      "_________________________________________________________________\n",
      " Layer (type)                Output Shape              Param #   \n",
      "=================================================================\n",
      " dense (Dense)               (None, 16)                144       \n",
      "                                                                 \n",
      " dense_1 (Dense)             (None, 7)                 119       \n",
      "                                                                 \n",
      " dense_2 (Dense)             (None, 2)                 16        \n",
      "                                                                 \n",
      " dense_3 (Dense)             (None, 1)                 3         \n",
      "                                                                 \n",
      "=================================================================\n",
      "Total params: 282\n",
      "Trainable params: 282\n",
      "Non-trainable params: 0\n",
      "_________________________________________________________________\n"
     ]
    }
   ],
   "source": [
    "model.summary"
   ]
  },
  {
   "cell_type": "code",
   "execution_count": 16,
   "metadata": {},
   "outputs": [
    {
     "name": "stdout",
     "output_type": "stream",
     "text": [
      "Epoch 1/50\n",
      "100/100 [==============================] - 0s 465us/step - loss: 0.6603 - accuracy: 0.6494\n",
      "Epoch 2/50\n",
      "100/100 [==============================] - 0s 515us/step - loss: 0.6439 - accuracy: 0.6494\n",
      "Epoch 3/50\n",
      "100/100 [==============================] - 0s 495us/step - loss: 0.6259 - accuracy: 0.6494\n",
      "Epoch 4/50\n",
      "100/100 [==============================] - 0s 495us/step - loss: 0.6055 - accuracy: 0.6494\n",
      "Epoch 5/50\n",
      "100/100 [==============================] - 0s 535us/step - loss: 0.5874 - accuracy: 0.6494\n",
      "Epoch 6/50\n",
      "100/100 [==============================] - 0s 495us/step - loss: 0.5685 - accuracy: 0.6494\n",
      "Epoch 7/50\n",
      "100/100 [==============================] - 0s 475us/step - loss: 0.5565 - accuracy: 0.6494\n",
      "Epoch 8/50\n",
      "100/100 [==============================] - 0s 525us/step - loss: 0.5454 - accuracy: 0.6494\n",
      "Epoch 9/50\n",
      "100/100 [==============================] - 0s 515us/step - loss: 0.5343 - accuracy: 0.6494\n",
      "Epoch 10/50\n",
      "100/100 [==============================] - 0s 495us/step - loss: 0.5263 - accuracy: 0.6831\n",
      "Epoch 11/50\n",
      "100/100 [==============================] - 0s 485us/step - loss: 0.5203 - accuracy: 0.7456\n",
      "Epoch 12/50\n",
      "100/100 [==============================] - 0s 515us/step - loss: 0.5111 - accuracy: 0.7456\n",
      "Epoch 13/50\n",
      "100/100 [==============================] - 0s 495us/step - loss: 0.5067 - accuracy: 0.7556\n",
      "Epoch 14/50\n",
      "100/100 [==============================] - 0s 495us/step - loss: 0.4988 - accuracy: 0.7594\n",
      "Epoch 15/50\n",
      "100/100 [==============================] - 0s 475us/step - loss: 0.4951 - accuracy: 0.7638\n",
      "Epoch 16/50\n",
      "100/100 [==============================] - 0s 495us/step - loss: 0.4905 - accuracy: 0.7638\n",
      "Epoch 17/50\n",
      "100/100 [==============================] - 0s 455us/step - loss: 0.4878 - accuracy: 0.7594\n",
      "Epoch 18/50\n",
      "100/100 [==============================] - 0s 465us/step - loss: 0.4835 - accuracy: 0.7650\n",
      "Epoch 19/50\n",
      "100/100 [==============================] - 0s 465us/step - loss: 0.4783 - accuracy: 0.7725\n",
      "Epoch 20/50\n",
      "100/100 [==============================] - 0s 465us/step - loss: 0.4762 - accuracy: 0.7763\n",
      "Epoch 21/50\n",
      "100/100 [==============================] - 0s 475us/step - loss: 0.4730 - accuracy: 0.7800\n",
      "Epoch 22/50\n",
      "100/100 [==============================] - 0s 475us/step - loss: 0.4719 - accuracy: 0.7713\n",
      "Epoch 23/50\n",
      "100/100 [==============================] - 0s 465us/step - loss: 0.4668 - accuracy: 0.7769\n",
      "Epoch 24/50\n",
      "100/100 [==============================] - 0s 475us/step - loss: 0.4631 - accuracy: 0.7800\n",
      "Epoch 25/50\n",
      "100/100 [==============================] - 0s 475us/step - loss: 0.4655 - accuracy: 0.7788\n",
      "Epoch 26/50\n",
      "100/100 [==============================] - 0s 465us/step - loss: 0.4602 - accuracy: 0.7806\n",
      "Epoch 27/50\n",
      "100/100 [==============================] - 0s 465us/step - loss: 0.4578 - accuracy: 0.7700\n",
      "Epoch 28/50\n",
      "100/100 [==============================] - 0s 465us/step - loss: 0.4632 - accuracy: 0.7713\n",
      "Epoch 29/50\n",
      "100/100 [==============================] - 0s 455us/step - loss: 0.4554 - accuracy: 0.7763\n",
      "Epoch 30/50\n",
      "100/100 [==============================] - 0s 465us/step - loss: 0.4535 - accuracy: 0.7831\n",
      "Epoch 31/50\n",
      "100/100 [==============================] - 0s 465us/step - loss: 0.4492 - accuracy: 0.7781\n",
      "Epoch 32/50\n",
      "100/100 [==============================] - 0s 455us/step - loss: 0.4497 - accuracy: 0.7869\n",
      "Epoch 33/50\n",
      "100/100 [==============================] - 0s 465us/step - loss: 0.4488 - accuracy: 0.7894\n",
      "Epoch 34/50\n",
      "100/100 [==============================] - 0s 465us/step - loss: 0.4447 - accuracy: 0.7769\n",
      "Epoch 35/50\n",
      "100/100 [==============================] - 0s 465us/step - loss: 0.4445 - accuracy: 0.7844\n",
      "Epoch 36/50\n",
      "100/100 [==============================] - 0s 465us/step - loss: 0.4456 - accuracy: 0.7800\n",
      "Epoch 37/50\n",
      "100/100 [==============================] - 0s 465us/step - loss: 0.4504 - accuracy: 0.7819\n",
      "Epoch 38/50\n",
      "100/100 [==============================] - 0s 475us/step - loss: 0.4398 - accuracy: 0.7806\n",
      "Epoch 39/50\n",
      "100/100 [==============================] - 0s 475us/step - loss: 0.4369 - accuracy: 0.7875\n",
      "Epoch 40/50\n",
      "100/100 [==============================] - 0s 465us/step - loss: 0.4405 - accuracy: 0.7881\n",
      "Epoch 41/50\n",
      "100/100 [==============================] - 0s 465us/step - loss: 0.4363 - accuracy: 0.7844\n",
      "Epoch 42/50\n",
      "100/100 [==============================] - 0s 465us/step - loss: 0.4410 - accuracy: 0.7850\n",
      "Epoch 43/50\n",
      "100/100 [==============================] - 0s 475us/step - loss: 0.4339 - accuracy: 0.7906\n",
      "Epoch 44/50\n",
      "100/100 [==============================] - 0s 475us/step - loss: 0.4321 - accuracy: 0.7919\n",
      "Epoch 45/50\n",
      "100/100 [==============================] - 0s 455us/step - loss: 0.4323 - accuracy: 0.7950\n",
      "Epoch 46/50\n",
      "100/100 [==============================] - 0s 465us/step - loss: 0.4353 - accuracy: 0.7831\n",
      "Epoch 47/50\n",
      "100/100 [==============================] - 0s 465us/step - loss: 0.4293 - accuracy: 0.7912\n",
      "Epoch 48/50\n",
      "100/100 [==============================] - 0s 455us/step - loss: 0.4284 - accuracy: 0.7894\n",
      "Epoch 49/50\n",
      "100/100 [==============================] - 0s 475us/step - loss: 0.4286 - accuracy: 0.7925\n",
      "Epoch 50/50\n",
      "100/100 [==============================] - 0s 465us/step - loss: 0.4255 - accuracy: 0.7950\n"
     ]
    }
   ],
   "source": [
    "history = model.fit(X_train, y_train, epochs=50, batch_size=16)"
   ]
  },
  {
   "cell_type": "markdown",
   "metadata": {},
   "source": [
    "## Prediction with Neural Network"
   ]
  },
  {
   "cell_type": "code",
   "execution_count": 43,
   "metadata": {},
   "outputs": [
    {
     "name": "stdout",
     "output_type": "stream",
     "text": [
      "13/13 [==============================] - 0s 500us/step - loss: 0.4251 - accuracy: 0.7900\n",
      "50/50 [==============================] - 0s 878us/step - loss: 0.4196 - accuracy: 0.7969\n"
     ]
    }
   ],
   "source": [
    "model.predict(X_test)\n",
    "model.evaluate(X_test, y_test)[1]\n",
    "model.fit(X_train, y_train)\n",
    "predictions = model.predict(X_test)\n",
    "y_pred_neural = (model.predict(X_test) > 0.5).astype(int)"
   ]
  },
  {
   "cell_type": "markdown",
   "metadata": {},
   "source": [
    "## Computation of Accuracy and Comparison"
   ]
  },
  {
   "cell_type": "code",
   "execution_count": 26,
   "metadata": {},
   "outputs": [
    {
     "name": "stdout",
     "output_type": "stream",
     "text": [
      "Test Accuracy of the SVM is:\n",
      "0.755\n",
      "Test Accuracy of the Logistic Model is:\n",
      "0.775\n",
      "Test Accuracy of the Decision Tree Model is\n",
      "0.98\n",
      "The difference (SVM - Logistic):\n",
      "-0.020000000000000018\n"
     ]
    }
   ],
   "source": [
    "print('Test Accuracy of the SVM is:')\n",
    "print(accuracy_svm)\n",
    "print('Test Accuracy of the Logistic Model is:')\n",
    "print(accuracy_log)\n",
    "print('Test Accuracy of the Decision Tree Model is')\n",
    "print(accuracy_tree)\n",
    "print('The difference (SVM - Logistic):')\n",
    "print(accuracy_svm - accuracy_log)"
   ]
  },
  {
   "cell_type": "markdown",
   "metadata": {},
   "source": [
    "# Confusion Matrices"
   ]
  },
  {
   "cell_type": "markdown",
   "metadata": {},
   "source": [
    "## Logistic Regression"
   ]
  },
  {
   "cell_type": "code",
   "execution_count": 19,
   "metadata": {},
   "outputs": [
    {
     "data": {
      "text/plain": [
       "array([[198,  79],\n",
       "       [ 92,  31]], dtype=int64)"
      ]
     },
     "execution_count": 19,
     "metadata": {},
     "output_type": "execute_result"
    }
   ],
   "source": [
    "# import the metrics class\n",
    "from sklearn import metrics\n",
    "# Confusion Matrix for Logistic Regression\n",
    "cnf_matrix_log = metrics.confusion_matrix(y_test, y_pred_log)\n",
    "cnf_matrix_log"
   ]
  },
  {
   "cell_type": "markdown",
   "metadata": {},
   "source": [
    "## SVM Model"
   ]
  },
  {
   "cell_type": "code",
   "execution_count": 20,
   "metadata": {},
   "outputs": [
    {
     "data": {
      "text/plain": [
       "array([[200,  77],\n",
       "       [ 90,  33]], dtype=int64)"
      ]
     },
     "execution_count": 20,
     "metadata": {},
     "output_type": "execute_result"
    }
   ],
   "source": [
    "# import the metrics class\n",
    "from sklearn import metrics\n",
    "# Confusion Matrix for Logistic Regression\n",
    "cnf_matrix_svm = metrics.confusion_matrix(y_test, y_pred_svm)\n",
    "cnf_matrix_svm"
   ]
  },
  {
   "cell_type": "markdown",
   "metadata": {},
   "source": [
    "## Decision Tree"
   ]
  },
  {
   "cell_type": "code",
   "execution_count": 21,
   "metadata": {},
   "outputs": [
    {
     "data": {
      "text/plain": [
       "array([[170, 107],\n",
       "       [ 76,  47]], dtype=int64)"
      ]
     },
     "execution_count": 21,
     "metadata": {},
     "output_type": "execute_result"
    }
   ],
   "source": [
    "# import the metrics class\n",
    "from sklearn import metrics\n",
    "# Confusion Matrix for Logistic Regression\n",
    "cnf_matrix_tree = metrics.confusion_matrix(y_test, y_pred_tree)\n",
    "cnf_matrix_tree"
   ]
  },
  {
   "cell_type": "markdown",
   "metadata": {},
   "source": [
    "## Neural Network"
   ]
  },
  {
   "cell_type": "code",
   "execution_count": 42,
   "metadata": {},
   "outputs": [
    {
     "data": {
      "text/plain": [
       "2000"
      ]
     },
     "execution_count": 42,
     "metadata": {},
     "output_type": "execute_result"
    }
   ],
   "source": [
    "y_pred_neural.size"
   ]
  },
  {
   "cell_type": "code",
   "execution_count": 44,
   "metadata": {},
   "outputs": [
    {
     "data": {
      "text/plain": [
       "array([[228,  49],\n",
       "       [ 33,  90]], dtype=int64)"
      ]
     },
     "execution_count": 44,
     "metadata": {},
     "output_type": "execute_result"
    }
   ],
   "source": [
    "# import the metrics class\n",
    "from sklearn import metrics\n",
    "# Confusion Matrix for Logistic Regression\n",
    "cnf_matrix_neural = metrics.confusion_matrix(y_test, y_pred_neural)\n",
    "cnf_matrix_neural"
   ]
  },
  {
   "cell_type": "markdown",
   "metadata": {},
   "source": [
    "## Visualizing Confusion Matrix using HeatMap"
   ]
  },
  {
   "cell_type": "code",
   "execution_count": 45,
   "metadata": {},
   "outputs": [],
   "source": [
    "import matplotlib.pyplot as plt\n",
    "import seaborn as sns\n",
    "import numpy as np\n",
    "%matplotlib inline"
   ]
  },
  {
   "cell_type": "markdown",
   "metadata": {},
   "source": [
    "Logistic Regression"
   ]
  },
  {
   "cell_type": "code",
   "execution_count": 47,
   "metadata": {},
   "outputs": [
    {
     "data": {
      "text/plain": [
       "Text(0.5, 257.44, 'Predicted label')"
      ]
     },
     "execution_count": 47,
     "metadata": {},
     "output_type": "execute_result"
    },
    {
     "data": {
      "image/png": "[encoded data removed]",
      "text/plain": [
       "<Figure size 432x288 with 2 Axes>"
      ]
     },
     "metadata": {
      "needs_background": "light"
     },
     "output_type": "display_data"
    }
   ],
   "source": [
    "class_names=['0', '1'] # name  of classes\n",
    "fig, ax = plt.subplots()\n",
    "tick_marks = np.arange(len(class_names))\n",
    "# create heatmap\n",
    "sns.heatmap(cnf_matrix_log, annot=True, cmap=\"YlGnBu\" ,fmt='d', xticklabels=class_names, yticklabels=class_names)\n",
    "ax.xaxis.set_label_position(\"top\")\n",
    "plt.tight_layout()\n",
    "plt.title('Confusion Matrix Logistic Regresion')\n",
    "plt.ylabel('Actual label')\n",
    "plt.xlabel('Predicted label')"
   ]
  },
  {
   "cell_type": "markdown",
   "metadata": {},
   "source": [
    "Decision Tree"
   ]
  },
  {
   "cell_type": "code",
   "execution_count": 48,
   "metadata": {},
   "outputs": [
    {
     "data": {
      "text/plain": [
       "Text(0.5, 257.44, 'Predicted label')"
      ]
     },
     "execution_count": 48,
     "metadata": {},
     "output_type": "execute_result"
    },
    {
     "data": {
      "image/png": "[encoded data removed]",
      "text/plain": [
       "<Figure size 432x288 with 2 Axes>"
      ]
     },
     "metadata": {
      "needs_background": "light"
     },
     "output_type": "display_data"
    }
   ],
   "source": [
    "class_names=['0', '1'] # name  of classes\n",
    "fig, ax = plt.subplots()\n",
    "tick_marks = np.arange(len(class_names))\n",
    "# create heatmap\n",
    "sns.heatmap(cnf_matrix_svm, annot=True, cmap=\"YlGnBu\" ,fmt='d', xticklabels=class_names, yticklabels=class_names)\n",
    "ax.xaxis.set_label_position(\"top\")\n",
    "plt.tight_layout()\n",
    "plt.title('Confusion Matrix SVM')\n",
    "plt.ylabel('Actual label')\n",
    "plt.xlabel('Predicted label')"
   ]
  },
  {
   "cell_type": "markdown",
   "metadata": {},
   "source": [
    "Decision Tree"
   ]
  },
  {
   "cell_type": "code",
   "execution_count": 49,
   "metadata": {},
   "outputs": [
    {
     "data": {
      "text/plain": [
       "Text(0.5, 257.44, 'Predicted label')"
      ]
     },
     "execution_count": 49,
     "metadata": {},
     "output_type": "execute_result"
    },
    {
     "data": {
      "image/png": "[encoded data removed]",
      "text/plain": [
       "<Figure size 432x288 with 2 Axes>"
      ]
     },
     "metadata": {
      "needs_background": "light"
     },
     "output_type": "display_data"
    }
   ],
   "source": [
    "class_names=['0', '1'] # name  of classes\n",
    "fig, ax = plt.subplots()\n",
    "tick_marks = np.arange(len(class_names))\n",
    "# create heatmap\n",
    "sns.heatmap(cnf_matrix_tree, annot=True, cmap=\"YlGnBu\" ,fmt='d', xticklabels=class_names, yticklabels=class_names)\n",
    "ax.xaxis.set_label_position(\"top\")\n",
    "plt.tight_layout()\n",
    "plt.title('Confusion Matrix Decision Tree')\n",
    "plt.ylabel('Actual label')\n",
    "plt.xlabel('Predicted label')"
   ]
  },
  {
   "cell_type": "markdown",
   "metadata": {},
   "source": [
    "Neural Network"
   ]
  },
  {
   "cell_type": "code",
   "execution_count": 50,
   "metadata": {},
   "outputs": [
    {
     "data": {
      "text/plain": [
       "Text(0.5, 257.44, 'Predicted label')"
      ]
     },
     "execution_count": 50,
     "metadata": {},
     "output_type": "execute_result"
    },
    {
     "data": {
      "image/png": "[encoded data removed]",
      "text/plain": [
       "<Figure size 432x288 with 2 Axes>"
      ]
     },
     "metadata": {
      "needs_background": "light"
     },
     "output_type": "display_data"
    }
   ],
   "source": [
    "class_names=['0', '1'] # name  of classes\n",
    "fig, ax = plt.subplots()\n",
    "tick_marks = np.arange(len(class_names))\n",
    "# create heatmap\n",
    "sns.heatmap(cnf_matrix_neural, annot=True, cmap=\"YlGnBu\" ,fmt='d', xticklabels=class_names, yticklabels=class_names)\n",
    "ax.xaxis.set_label_position(\"top\")\n",
    "plt.tight_layout()\n",
    "plt.title('Confusion Matrix Neural Network')\n",
    "plt.ylabel('Actual label')\n",
    "plt.xlabel('Predicted label')"
   ]
  }
 ],
 "metadata": {
  "interpreter": {
   "hash": "08e780137cefc02a62b37e9d6f9e294c77017969c9404295e9c1eb6db8a00f70"
  },
  "kernelspec": {
   "display_name": "Python 3.8.12 64-bit ('base': conda)",
   "language": "python",
   "name": "python3"
  },
  "language_info": {
   "codemirror_mode": {
    "name": "ipython",
    "version": 3
   },
   "file_extension": ".py",
   "mimetype": "text/x-python",
   "name": "python",
   "nbconvert_exporter": "python",
   "pygments_lexer": "ipython3",
   "version": "3.8.12"
  },
  "orig_nbformat": 4
 },
 "nbformat": 4,
 "nbformat_minor": 2
}
