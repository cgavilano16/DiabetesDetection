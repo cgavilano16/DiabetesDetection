{
 "cells": [
  {
   "cell_type": "markdown",
   "metadata": {},
   "source": [
    "# Midterm Project: Potability Water Detection"
   ]
  },
  {
   "cell_type": "markdown",
   "metadata": {},
   "source": [
    "## Loading Database"
   ]
  },
  {
   "cell_type": "code",
   "execution_count": 1,
   "metadata": {},
   "outputs": [],
   "source": [
    "#import pandas\n",
    "import pandas as pd\n",
    "#loading csv file\n",
    "waters = pd.read_csv(\"waterQuality1.csv\")"
   ]
  },
  {
   "cell_type": "code",
   "execution_count": 2,
   "metadata": {},
   "outputs": [
    {
     "data": {
      "text/html": [
       "<div>\n",
       "<style scoped>\n",
       "    .dataframe tbody tr th:only-of-type {\n",
       "        vertical-align: middle;\n",
       "    }\n",
       "\n",
       "    .dataframe tbody tr th {\n",
       "        vertical-align: top;\n",
       "    }\n",
       "\n",
       "    .dataframe thead th {\n",
       "        text-align: right;\n",
       "    }\n",
       "</style>\n",
       "<table border=\"1\" class=\"dataframe\">\n",
       "  <thead>\n",
       "    <tr style=\"text-align: right;\">\n",
       "      <th></th>\n",
       "      <th>aluminium</th>\n",
       "      <th>ammonia</th>\n",
       "      <th>arsenic</th>\n",
       "      <th>barium</th>\n",
       "      <th>cadmium</th>\n",
       "      <th>chloramine</th>\n",
       "      <th>chromium</th>\n",
       "      <th>copper</th>\n",
       "      <th>flouride</th>\n",
       "      <th>bacteria</th>\n",
       "      <th>...</th>\n",
       "      <th>lead</th>\n",
       "      <th>nitrates</th>\n",
       "      <th>nitrites</th>\n",
       "      <th>mercury</th>\n",
       "      <th>perchlorate</th>\n",
       "      <th>radium</th>\n",
       "      <th>selenium</th>\n",
       "      <th>silver</th>\n",
       "      <th>uranium</th>\n",
       "      <th>is_safe</th>\n",
       "    </tr>\n",
       "  </thead>\n",
       "  <tbody>\n",
       "    <tr>\n",
       "      <th>0</th>\n",
       "      <td>1.65</td>\n",
       "      <td>9.08</td>\n",
       "      <td>0.04</td>\n",
       "      <td>2.85</td>\n",
       "      <td>0.007</td>\n",
       "      <td>0.35</td>\n",
       "      <td>0.83</td>\n",
       "      <td>0.17</td>\n",
       "      <td>0.05</td>\n",
       "      <td>0.20</td>\n",
       "      <td>...</td>\n",
       "      <td>0.054</td>\n",
       "      <td>16.08</td>\n",
       "      <td>1.13</td>\n",
       "      <td>0.007</td>\n",
       "      <td>37.75</td>\n",
       "      <td>6.78</td>\n",
       "      <td>0.08</td>\n",
       "      <td>0.34</td>\n",
       "      <td>0.02</td>\n",
       "      <td>1</td>\n",
       "    </tr>\n",
       "    <tr>\n",
       "      <th>1</th>\n",
       "      <td>2.32</td>\n",
       "      <td>21.16</td>\n",
       "      <td>0.01</td>\n",
       "      <td>3.31</td>\n",
       "      <td>0.002</td>\n",
       "      <td>5.28</td>\n",
       "      <td>0.68</td>\n",
       "      <td>0.66</td>\n",
       "      <td>0.90</td>\n",
       "      <td>0.65</td>\n",
       "      <td>...</td>\n",
       "      <td>0.100</td>\n",
       "      <td>2.01</td>\n",
       "      <td>1.93</td>\n",
       "      <td>0.003</td>\n",
       "      <td>32.26</td>\n",
       "      <td>3.21</td>\n",
       "      <td>0.08</td>\n",
       "      <td>0.27</td>\n",
       "      <td>0.05</td>\n",
       "      <td>1</td>\n",
       "    </tr>\n",
       "    <tr>\n",
       "      <th>2</th>\n",
       "      <td>1.01</td>\n",
       "      <td>14.02</td>\n",
       "      <td>0.04</td>\n",
       "      <td>0.58</td>\n",
       "      <td>0.008</td>\n",
       "      <td>4.24</td>\n",
       "      <td>0.53</td>\n",
       "      <td>0.02</td>\n",
       "      <td>0.99</td>\n",
       "      <td>0.05</td>\n",
       "      <td>...</td>\n",
       "      <td>0.078</td>\n",
       "      <td>14.16</td>\n",
       "      <td>1.11</td>\n",
       "      <td>0.006</td>\n",
       "      <td>50.28</td>\n",
       "      <td>7.07</td>\n",
       "      <td>0.07</td>\n",
       "      <td>0.44</td>\n",
       "      <td>0.01</td>\n",
       "      <td>0</td>\n",
       "    </tr>\n",
       "    <tr>\n",
       "      <th>3</th>\n",
       "      <td>1.36</td>\n",
       "      <td>11.33</td>\n",
       "      <td>0.04</td>\n",
       "      <td>2.96</td>\n",
       "      <td>0.001</td>\n",
       "      <td>7.23</td>\n",
       "      <td>0.03</td>\n",
       "      <td>1.66</td>\n",
       "      <td>1.08</td>\n",
       "      <td>0.71</td>\n",
       "      <td>...</td>\n",
       "      <td>0.016</td>\n",
       "      <td>1.41</td>\n",
       "      <td>1.29</td>\n",
       "      <td>0.004</td>\n",
       "      <td>9.12</td>\n",
       "      <td>1.72</td>\n",
       "      <td>0.02</td>\n",
       "      <td>0.45</td>\n",
       "      <td>0.05</td>\n",
       "      <td>1</td>\n",
       "    </tr>\n",
       "    <tr>\n",
       "      <th>4</th>\n",
       "      <td>0.92</td>\n",
       "      <td>24.33</td>\n",
       "      <td>0.03</td>\n",
       "      <td>0.20</td>\n",
       "      <td>0.006</td>\n",
       "      <td>2.67</td>\n",
       "      <td>0.69</td>\n",
       "      <td>0.57</td>\n",
       "      <td>0.61</td>\n",
       "      <td>0.13</td>\n",
       "      <td>...</td>\n",
       "      <td>0.117</td>\n",
       "      <td>6.74</td>\n",
       "      <td>1.11</td>\n",
       "      <td>0.003</td>\n",
       "      <td>16.90</td>\n",
       "      <td>2.41</td>\n",
       "      <td>0.02</td>\n",
       "      <td>0.06</td>\n",
       "      <td>0.02</td>\n",
       "      <td>1</td>\n",
       "    </tr>\n",
       "  </tbody>\n",
       "</table>\n",
       "<p>5 rows × 21 columns</p>\n",
       "</div>"
      ],
      "text/plain": [
       "   aluminium  ammonia  arsenic  barium  cadmium  chloramine  chromium  copper  \\\n",
       "0       1.65     9.08     0.04    2.85    0.007        0.35      0.83    0.17   \n",
       "1       2.32    21.16     0.01    3.31    0.002        5.28      0.68    0.66   \n",
       "2       1.01    14.02     0.04    0.58    0.008        4.24      0.53    0.02   \n",
       "3       1.36    11.33     0.04    2.96    0.001        7.23      0.03    1.66   \n",
       "4       0.92    24.33     0.03    0.20    0.006        2.67      0.69    0.57   \n",
       "\n",
       "   flouride  bacteria  ...   lead  nitrates  nitrites  mercury  perchlorate  \\\n",
       "0      0.05      0.20  ...  0.054     16.08      1.13    0.007        37.75   \n",
       "1      0.90      0.65  ...  0.100      2.01      1.93    0.003        32.26   \n",
       "2      0.99      0.05  ...  0.078     14.16      1.11    0.006        50.28   \n",
       "3      1.08      0.71  ...  0.016      1.41      1.29    0.004         9.12   \n",
       "4      0.61      0.13  ...  0.117      6.74      1.11    0.003        16.90   \n",
       "\n",
       "   radium  selenium  silver  uranium  is_safe  \n",
       "0    6.78      0.08    0.34     0.02        1  \n",
       "1    3.21      0.08    0.27     0.05        1  \n",
       "2    7.07      0.07    0.44     0.01        0  \n",
       "3    1.72      0.02    0.45     0.05        1  \n",
       "4    2.41      0.02    0.06     0.02        1  \n",
       "\n",
       "[5 rows x 21 columns]"
      ]
     },
     "execution_count": 2,
     "metadata": {},
     "output_type": "execute_result"
    }
   ],
   "source": [
    "waters.head()"
   ]
  },
  {
   "cell_type": "markdown",
   "metadata": {},
   "source": [
    "##"
   ]
  },
  {
   "cell_type": "markdown",
   "metadata": {},
   "source": [
    "## Checking for Null Values"
   ]
  },
  {
   "cell_type": "code",
   "execution_count": 3,
   "metadata": {},
   "outputs": [
    {
     "data": {
      "text/plain": [
       "aluminium      0\n",
       "ammonia        0\n",
       "arsenic        0\n",
       "barium         0\n",
       "cadmium        0\n",
       "chloramine     0\n",
       "chromium       0\n",
       "copper         0\n",
       "flouride       0\n",
       "bacteria       0\n",
       "viruses        0\n",
       "lead           0\n",
       "nitrates       0\n",
       "nitrites       0\n",
       "mercury        0\n",
       "perchlorate    0\n",
       "radium         0\n",
       "selenium       0\n",
       "silver         0\n",
       "uranium        0\n",
       "is_safe        0\n",
       "dtype: int64"
      ]
     },
     "execution_count": 3,
     "metadata": {},
     "output_type": "execute_result"
    }
   ],
   "source": [
    "#Check how many Null Values in each Column\n",
    "waters.isnull().sum()"
   ]
  },
  {
   "cell_type": "markdown",
   "metadata": {},
   "source": [
    "## Identifying Features and Target Variables"
   ]
  },
  {
   "cell_type": "code",
   "execution_count": 4,
   "metadata": {},
   "outputs": [],
   "source": [
    "#split dataset into features and target variables\n",
    "feature_cols = ['aluminium', 'ammonia', 'arsenic', 'barium', 'cadmium', 'chloramine', 'chromium', 'copper', 'flouride', 'bacteria', 'viruses', 'lead', 'nitrates', 'nitrites', 'mercury', 'perchlorate', 'radium', 'selenium', 'silver', 'uranium']\n",
    "X = waters[feature_cols]  #features\n",
    "y = waters.is_safe     #target"
   ]
  },
  {
   "cell_type": "markdown",
   "metadata": {},
   "source": [
    "## Splitting Data into Training and Testing Data"
   ]
  },
  {
   "cell_type": "code",
   "execution_count": 5,
   "metadata": {},
   "outputs": [],
   "source": [
    "# split X and y into training and testing sets\n",
    "from sklearn.model_selection import train_test_split\n",
    "\n",
    "X_train, X_test, y_train, y_test = train_test_split(X, y, test_size=0.2)"
   ]
  },
  {
   "cell_type": "markdown",
   "metadata": {},
   "source": [
    "## Training Logistic Regression Model"
   ]
  },
  {
   "cell_type": "code",
   "execution_count": 6,
   "metadata": {},
   "outputs": [
    {
     "data": {
      "text/plain": [
       "LogisticRegression(max_iter=8000)"
      ]
     },
     "execution_count": 6,
     "metadata": {},
     "output_type": "execute_result"
    }
   ],
   "source": [
    "# import the class\n",
    "from sklearn.linear_model import LogisticRegression\n",
    "# instantiate the model (using the default parameters)\n",
    "logreg = LogisticRegression(solver='lbfgs', max_iter=8000)\n",
    "\n",
    "# fit the model with data\n",
    "logreg.fit(X_train.values,y_train.values)"
   ]
  },
  {
   "cell_type": "markdown",
   "metadata": {},
   "source": [
    "## Training SVM Model"
   ]
  },
  {
   "cell_type": "code",
   "execution_count": 7,
   "metadata": {},
   "outputs": [
    {
     "data": {
      "text/plain": [
       "SVC(kernel='linear')"
      ]
     },
     "execution_count": 7,
     "metadata": {},
     "output_type": "execute_result"
    }
   ],
   "source": [
    "#import svm model\n",
    "from sklearn import svm\n",
    "\n",
    "#create a svm Classifier\n",
    "svmClf = svm.SVC(kernel='linear') #Linear Kernel\n",
    "\n",
    "#Train the model using the trainings sets\n",
    "svmClf.fit(X_train.values, y_train.values)"
   ]
  },
  {
   "cell_type": "markdown",
   "metadata": {},
   "source": [
    "## Training Decision Tree Model"
   ]
  },
  {
   "cell_type": "code",
   "execution_count": 8,
   "metadata": {},
   "outputs": [
    {
     "data": {
      "text/plain": [
       "DecisionTreeClassifier()"
      ]
     },
     "execution_count": 8,
     "metadata": {},
     "output_type": "execute_result"
    }
   ],
   "source": [
    "from sklearn.tree import DecisionTreeClassifier\n",
    "treeClf = DecisionTreeClassifier()\n",
    "treeClf.fit(X_train.values, y_train.values)"
   ]
  },
  {
   "cell_type": "markdown",
   "metadata": {},
   "source": [
    "## Prediction with Log. Regression, SVM, and Decision Tree"
   ]
  },
  {
   "cell_type": "code",
   "execution_count": 9,
   "metadata": {},
   "outputs": [
    {
     "name": "stderr",
     "output_type": "stream",
     "text": [
      "C:\\Users\\cesma\\anaconda3\\lib\\site-packages\\sklearn\\base.py:438: UserWarning: X has feature names, but SVC was fitted without feature names\n",
      "  warnings.warn(\n",
      "C:\\Users\\cesma\\anaconda3\\lib\\site-packages\\sklearn\\base.py:438: UserWarning: X has feature names, but LogisticRegression was fitted without feature names\n",
      "  warnings.warn(\n",
      "C:\\Users\\cesma\\anaconda3\\lib\\site-packages\\sklearn\\base.py:438: UserWarning: X has feature names, but DecisionTreeClassifier was fitted without feature names\n",
      "  warnings.warn(\n"
     ]
    }
   ],
   "source": [
    "#Predict the response for test datasets\n",
    "y_pred_svm = svmClf.predict(X_test)\n",
    "\n",
    "y_pred_log = logreg.predict(X_test)\n",
    "\n",
    "y_pred_tree = treeClf.predict(X_test)\n",
    "\n",
    "# compute the accuracy\n",
    "import numpy as np\n",
    "accuracy_svm = np.sum(y_pred_svm == y_test) / len(y_test)\n",
    "\n",
    "accuracy_log = np.sum(y_pred_log == y_test) / len(y_test)\n",
    "\n",
    "accuracy_tree = np.sum(y_pred_tree == y_test) / len(y_test)"
   ]
  },
  {
   "cell_type": "markdown",
   "metadata": {},
   "source": [
    "## Training Neural Network"
   ]
  },
  {
   "cell_type": "code",
   "execution_count": 10,
   "metadata": {},
   "outputs": [],
   "source": [
    "from sklearn.preprocessing import MinMaxScaler\n",
    "scalar = MinMaxScaler()\n",
    "scalar.fit(X)\n",
    "X = scalar.transform(X)"
   ]
  },
  {
   "cell_type": "code",
   "execution_count": 11,
   "metadata": {},
   "outputs": [],
   "source": [
    "from sklearn.model_selection import train_test_split\n",
    "X_train, X_test, y_train, y_test = train_test_split(X, y, test_size = 0.2)"
   ]
  },
  {
   "cell_type": "code",
   "execution_count": 12,
   "metadata": {},
   "outputs": [
    {
     "data": {
      "text/plain": [
       "(6399, 20)"
      ]
     },
     "execution_count": 12,
     "metadata": {},
     "output_type": "execute_result"
    }
   ],
   "source": [
    "X_train.shape"
   ]
  },
  {
   "cell_type": "code",
   "execution_count": 13,
   "metadata": {},
   "outputs": [],
   "source": [
    "from tensorflow.keras.models import Sequential\n",
    "from tensorflow.keras.layers import Dense\n",
    "\n",
    "neuralClf = Sequential()\n",
    "neuralClf.add(Dense(16, input_dim = 20, activation = 'relu'))\n",
    "neuralClf.add(Dense(7, activation='relu'))\n",
    "neuralClf.add(Dense(2, activation='relu'))\n",
    "neuralClf.add(Dense(6, activation='relu'))\n",
    "neuralClf.add(Dense(1, activation='sigmoid'))"
   ]
  },
  {
   "cell_type": "code",
   "execution_count": 14,
   "metadata": {},
   "outputs": [],
   "source": [
    "neuralClf.compile(loss='binary_crossentropy', optimizer='adam', metrics=['accuracy'])"
   ]
  },
  {
   "cell_type": "code",
   "execution_count": 15,
   "metadata": {},
   "outputs": [
    {
     "data": {
      "text/plain": [
       "<bound method Model.summary of <keras.engine.sequential.Sequential object at 0x000001DD0CB72BE0>>"
      ]
     },
     "execution_count": 15,
     "metadata": {},
     "output_type": "execute_result"
    }
   ],
   "source": [
    "neuralClf.summary"
   ]
  },
  {
   "cell_type": "code",
   "execution_count": 17,
   "metadata": {},
   "outputs": [
    {
     "name": "stdout",
     "output_type": "stream",
     "text": [
      "Epoch 1/50\n",
      "400/400 [==============================] - 1s 1ms/step - loss: 0.4140 - accuracy: 0.8840\n",
      "Epoch 2/50\n",
      "400/400 [==============================] - 0s 1ms/step - loss: 0.2880 - accuracy: 0.8848\n",
      "Epoch 3/50\n",
      "400/400 [==============================] - 0s 1ms/step - loss: 0.2631 - accuracy: 0.8848\n",
      "Epoch 4/50\n",
      "400/400 [==============================] - 0s 1ms/step - loss: 0.2493 - accuracy: 0.8848\n",
      "Epoch 5/50\n",
      "400/400 [==============================] - 0s 1ms/step - loss: 0.2353 - accuracy: 0.9069\n",
      "Epoch 6/50\n",
      "400/400 [==============================] - 0s 1ms/step - loss: 0.2218 - accuracy: 0.9153\n",
      "Epoch 7/50\n",
      "400/400 [==============================] - 0s 1ms/step - loss: 0.2093 - accuracy: 0.9190\n",
      "Epoch 8/50\n",
      "400/400 [==============================] - 0s 1ms/step - loss: 0.2016 - accuracy: 0.9205\n",
      "Epoch 9/50\n",
      "400/400 [==============================] - 0s 1ms/step - loss: 0.1912 - accuracy: 0.9239\n",
      "Epoch 10/50\n",
      "400/400 [==============================] - 0s 998us/step - loss: 0.1825 - accuracy: 0.9294\n",
      "Epoch 11/50\n",
      "400/400 [==============================] - 0s 1ms/step - loss: 0.1769 - accuracy: 0.9319\n",
      "Epoch 12/50\n",
      "400/400 [==============================] - 0s 1ms/step - loss: 0.1682 - accuracy: 0.9342\n",
      "Epoch 13/50\n",
      "400/400 [==============================] - 0s 1ms/step - loss: 0.1635 - accuracy: 0.9383\n",
      "Epoch 14/50\n",
      "400/400 [==============================] - 0s 1ms/step - loss: 0.1569 - accuracy: 0.9419\n",
      "Epoch 15/50\n",
      "400/400 [==============================] - 0s 1ms/step - loss: 0.1522 - accuracy: 0.9408\n",
      "Epoch 16/50\n",
      "400/400 [==============================] - 0s 1ms/step - loss: 0.1466 - accuracy: 0.9416\n",
      "Epoch 17/50\n",
      "400/400 [==============================] - 0s 1ms/step - loss: 0.1419 - accuracy: 0.9470\n",
      "Epoch 18/50\n",
      "400/400 [==============================] - 0s 980us/step - loss: 0.1371 - accuracy: 0.9503\n",
      "Epoch 19/50\n",
      "400/400 [==============================] - 0s 970us/step - loss: 0.1358 - accuracy: 0.9501\n",
      "Epoch 20/50\n",
      "400/400 [==============================] - 0s 986us/step - loss: 0.1303 - accuracy: 0.9508\n",
      "Epoch 21/50\n",
      "400/400 [==============================] - 0s 968us/step - loss: 0.1304 - accuracy: 0.9533\n",
      "Epoch 22/50\n",
      "400/400 [==============================] - 0s 968us/step - loss: 0.1268 - accuracy: 0.9539\n",
      "Epoch 23/50\n",
      "400/400 [==============================] - 0s 968us/step - loss: 0.1235 - accuracy: 0.9528\n",
      "Epoch 24/50\n",
      "400/400 [==============================] - 0s 1ms/step - loss: 0.1245 - accuracy: 0.9541\n",
      "Epoch 25/50\n",
      "400/400 [==============================] - 0s 983us/step - loss: 0.1210 - accuracy: 0.9559\n",
      "Epoch 26/50\n",
      "400/400 [==============================] - 0s 970us/step - loss: 0.1190 - accuracy: 0.9548\n",
      "Epoch 27/50\n",
      "400/400 [==============================] - 0s 965us/step - loss: 0.1163 - accuracy: 0.9544\n",
      "Epoch 28/50\n",
      "400/400 [==============================] - 0s 990us/step - loss: 0.1155 - accuracy: 0.9555\n",
      "Epoch 29/50\n",
      "400/400 [==============================] - 0s 970us/step - loss: 0.1155 - accuracy: 0.9556\n",
      "Epoch 30/50\n",
      "400/400 [==============================] - 0s 985us/step - loss: 0.1134 - accuracy: 0.9545\n",
      "Epoch 31/50\n",
      "400/400 [==============================] - 0s 965us/step - loss: 0.1131 - accuracy: 0.9580\n",
      "Epoch 32/50\n",
      "400/400 [==============================] - 0s 960us/step - loss: 0.1123 - accuracy: 0.9587\n",
      "Epoch 33/50\n",
      "400/400 [==============================] - 0s 975us/step - loss: 0.1129 - accuracy: 0.9537\n",
      "Epoch 34/50\n",
      "400/400 [==============================] - 0s 968us/step - loss: 0.1116 - accuracy: 0.9567\n",
      "Epoch 35/50\n",
      "400/400 [==============================] - 0s 1ms/step - loss: 0.1084 - accuracy: 0.9589\n",
      "Epoch 36/50\n",
      "400/400 [==============================] - 0s 958us/step - loss: 0.1078 - accuracy: 0.9586\n",
      "Epoch 37/50\n",
      "400/400 [==============================] - 0s 963us/step - loss: 0.1082 - accuracy: 0.9597\n",
      "Epoch 38/50\n",
      "400/400 [==============================] - 0s 968us/step - loss: 0.1082 - accuracy: 0.9586\n",
      "Epoch 39/50\n",
      "400/400 [==============================] - 0s 980us/step - loss: 0.1077 - accuracy: 0.9584\n",
      "Epoch 40/50\n",
      "400/400 [==============================] - 0s 968us/step - loss: 0.1050 - accuracy: 0.9586\n",
      "Epoch 41/50\n",
      "400/400 [==============================] - 0s 973us/step - loss: 0.1055 - accuracy: 0.9595\n",
      "Epoch 42/50\n",
      "400/400 [==============================] - 0s 970us/step - loss: 0.1029 - accuracy: 0.9636\n",
      "Epoch 43/50\n",
      "400/400 [==============================] - 0s 968us/step - loss: 0.1043 - accuracy: 0.9598\n",
      "Epoch 44/50\n",
      "400/400 [==============================] - 0s 963us/step - loss: 0.1054 - accuracy: 0.9595\n",
      "Epoch 45/50\n",
      "400/400 [==============================] - 0s 968us/step - loss: 0.1031 - accuracy: 0.9602\n",
      "Epoch 46/50\n",
      "400/400 [==============================] - 0s 975us/step - loss: 0.1045 - accuracy: 0.9608\n",
      "Epoch 47/50\n",
      "400/400 [==============================] - 0s 978us/step - loss: 0.1029 - accuracy: 0.9605\n",
      "Epoch 48/50\n",
      "400/400 [==============================] - 0s 963us/step - loss: 0.1013 - accuracy: 0.9620\n",
      "Epoch 49/50\n",
      "400/400 [==============================] - 0s 970us/step - loss: 0.1003 - accuracy: 0.9614\n",
      "Epoch 50/50\n",
      "400/400 [==============================] - 0s 963us/step - loss: 0.1007 - accuracy: 0.9625\n"
     ]
    }
   ],
   "source": [
    "history = neuralClf.fit(X_train, y_train.values, epochs=50, batch_size=16)"
   ]
  },
  {
   "cell_type": "markdown",
   "metadata": {},
   "source": [
    "## Prediction with Neural Network"
   ]
  },
  {
   "cell_type": "code",
   "execution_count": 18,
   "metadata": {},
   "outputs": [
    {
     "name": "stdout",
     "output_type": "stream",
     "text": [
      "50/50 [==============================] - 0s 837us/step - loss: 0.1218 - accuracy: 0.9556\n",
      "200/200 [==============================] - 1s 2ms/step - loss: 0.0964 - accuracy: 0.9652\n"
     ]
    }
   ],
   "source": [
    "neuralClf.predict(X_test)\n",
    "neuralClf.evaluate(X_test, y_test)[1]\n",
    "neuralClf.fit(X_train, y_train)\n",
    "predictions = neuralClf.predict(X_test)\n",
    "y_pred_neural = (neuralClf.predict(X_test) > 0.5).astype(int)"
   ]
  },
  {
   "cell_type": "markdown",
   "metadata": {},
   "source": [
    "## Computation of Accuracy and Comparison"
   ]
  },
  {
   "cell_type": "code",
   "execution_count": 19,
   "metadata": {},
   "outputs": [
    {
     "name": "stdout",
     "output_type": "stream",
     "text": [
      "Test Accuracy of the SVM is:\n",
      "0.9075\n",
      "Test Accuracy of the Logistic Model is:\n",
      "0.89875\n",
      "Test Accuracy of the Decision Tree Model is\n",
      "0.9525\n",
      "The difference (SVM - Logistic):\n",
      "0.008749999999999925\n"
     ]
    }
   ],
   "source": [
    "print('Test Accuracy of the SVM is:')\n",
    "print(accuracy_svm)\n",
    "print('Test Accuracy of the Logistic Model is:')\n",
    "print(accuracy_log)\n",
    "print('Test Accuracy of the Decision Tree Model is')\n",
    "print(accuracy_tree)\n",
    "print('The difference (SVM - Logistic):')\n",
    "print(accuracy_svm - accuracy_log)"
   ]
  },
  {
   "cell_type": "markdown",
   "metadata": {},
   "source": [
    "# Confusion Matrices"
   ]
  },
  {
   "cell_type": "markdown",
   "metadata": {},
   "source": [
    "## Logistic Regression"
   ]
  },
  {
   "cell_type": "code",
   "execution_count": 20,
   "metadata": {},
   "outputs": [
    {
     "data": {
      "text/plain": [
       "array([[1357,   68],\n",
       "       [ 163,   12]], dtype=int64)"
      ]
     },
     "execution_count": 20,
     "metadata": {},
     "output_type": "execute_result"
    }
   ],
   "source": [
    "# import the metrics class\n",
    "from sklearn import metrics\n",
    "# Confusion Matrix for Logistic Regression\n",
    "cnf_matrix_log = metrics.confusion_matrix(y_test, y_pred_log)\n",
    "cnf_matrix_log"
   ]
  },
  {
   "cell_type": "markdown",
   "metadata": {},
   "source": [
    "## SVM Model"
   ]
  },
  {
   "cell_type": "code",
   "execution_count": 21,
   "metadata": {},
   "outputs": [
    {
     "data": {
      "text/plain": [
       "array([[1364,   61],\n",
       "       [ 164,   11]], dtype=int64)"
      ]
     },
     "execution_count": 21,
     "metadata": {},
     "output_type": "execute_result"
    }
   ],
   "source": [
    "# import the metrics class\n",
    "from sklearn import metrics\n",
    "# Confusion Matrix for Logistic Regression\n",
    "cnf_matrix_svm = metrics.confusion_matrix(y_test, y_pred_svm)\n",
    "cnf_matrix_svm"
   ]
  },
  {
   "cell_type": "markdown",
   "metadata": {},
   "source": [
    "## Decision Tree"
   ]
  },
  {
   "cell_type": "code",
   "execution_count": 22,
   "metadata": {},
   "outputs": [
    {
     "data": {
      "text/plain": [
       "array([[1272,  153],\n",
       "       [ 142,   33]], dtype=int64)"
      ]
     },
     "execution_count": 22,
     "metadata": {},
     "output_type": "execute_result"
    }
   ],
   "source": [
    "# import the metrics class\n",
    "from sklearn import metrics\n",
    "# Confusion Matrix for Logistic Regression\n",
    "cnf_matrix_tree = metrics.confusion_matrix(y_test, y_pred_tree)\n",
    "cnf_matrix_tree"
   ]
  },
  {
   "cell_type": "markdown",
   "metadata": {},
   "source": [
    "## Neural Network"
   ]
  },
  {
   "cell_type": "code",
   "execution_count": 23,
   "metadata": {},
   "outputs": [
    {
     "data": {
      "text/plain": [
       "1600"
      ]
     },
     "execution_count": 23,
     "metadata": {},
     "output_type": "execute_result"
    }
   ],
   "source": [
    "y_pred_neural.size"
   ]
  },
  {
   "cell_type": "code",
   "execution_count": 24,
   "metadata": {},
   "outputs": [
    {
     "data": {
      "text/plain": [
       "array([[1401,   24],\n",
       "       [  44,  131]], dtype=int64)"
      ]
     },
     "execution_count": 24,
     "metadata": {},
     "output_type": "execute_result"
    }
   ],
   "source": [
    "# import the metrics class\n",
    "from sklearn import metrics\n",
    "# Confusion Matrix for Logistic Regression\n",
    "cnf_matrix_neural = metrics.confusion_matrix(y_test, y_pred_neural)\n",
    "cnf_matrix_neural"
   ]
  },
  {
   "cell_type": "markdown",
   "metadata": {},
   "source": [
    "## Visualizing Confusion Matrix using HeatMap"
   ]
  },
  {
   "cell_type": "code",
   "execution_count": 25,
   "metadata": {},
   "outputs": [],
   "source": [
    "import matplotlib.pyplot as plt\n",
    "import seaborn as sns\n",
    "import numpy as np\n",
    "%matplotlib inline"
   ]
  },
  {
   "cell_type": "markdown",
   "metadata": {},
   "source": [
    "Logistic Regression"
   ]
  },
  {
   "cell_type": "code",
   "execution_count": 26,
   "metadata": {},
   "outputs": [
    {
     "data": {
      "text/plain": [
       "Text(0.5, 257.44, 'Predicted label')"
      ]
     },
     "execution_count": 26,
     "metadata": {},
     "output_type": "execute_result"
    },
    {
     "data": {
      "image/png": "[encoded data removed]",
      "text/plain": [
       "<Figure size 432x288 with 2 Axes>"
      ]
     },
     "metadata": {
      "needs_background": "light"
     },
     "output_type": "display_data"
    }
   ],
   "source": [
    "class_names=['0', '1'] # name  of classes\n",
    "fig, ax = plt.subplots()\n",
    "tick_marks = np.arange(len(class_names))\n",
    "# create heatmap\n",
    "sns.heatmap(cnf_matrix_log, annot=True, cmap=\"YlGnBu\" ,fmt='d', xticklabels=class_names, yticklabels=class_names)\n",
    "ax.xaxis.set_label_position(\"top\")\n",
    "plt.tight_layout()\n",
    "plt.title('Confusion Matrix Logistic Regresion')\n",
    "plt.ylabel('Actual label')\n",
    "plt.xlabel('Predicted label')"
   ]
  },
  {
   "cell_type": "markdown",
   "metadata": {},
   "source": [
    "Decision Tree"
   ]
  },
  {
   "cell_type": "code",
   "execution_count": 27,
   "metadata": {},
   "outputs": [
    {
     "data": {
      "text/plain": [
       "Text(0.5, 257.44, 'Predicted label')"
      ]
     },
     "execution_count": 27,
     "metadata": {},
     "output_type": "execute_result"
    },
    {
     "data": {
      "image/png": "[encoded data removed]",
      "text/plain": [
       "<Figure size 432x288 with 2 Axes>"
      ]
     },
     "metadata": {
      "needs_background": "light"
     },
     "output_type": "display_data"
    }
   ],
   "source": [
    "class_names=['0', '1'] # name  of classes\n",
    "fig, ax = plt.subplots()\n",
    "tick_marks = np.arange(len(class_names))\n",
    "# create heatmap\n",
    "sns.heatmap(cnf_matrix_svm, annot=True, cmap=\"YlGnBu\" ,fmt='d', xticklabels=class_names, yticklabels=class_names)\n",
    "ax.xaxis.set_label_position(\"top\")\n",
    "plt.tight_layout()\n",
    "plt.title('Confusion Matrix SVM')\n",
    "plt.ylabel('Actual label')\n",
    "plt.xlabel('Predicted label')"
   ]
  },
  {
   "cell_type": "markdown",
   "metadata": {},
   "source": [
    "Decision Tree"
   ]
  },
  {
   "cell_type": "code",
   "execution_count": 28,
   "metadata": {},
   "outputs": [
    {
     "data": {
      "text/plain": [
       "Text(0.5, 257.44, 'Predicted label')"
      ]
     },
     "execution_count": 28,
     "metadata": {},
     "output_type": "execute_result"
    },
    {
     "data": {
      "image/png": "[encoded data removed]",
      "text/plain": [
       "<Figure size 432x288 with 2 Axes>"
      ]
     },
     "metadata": {
      "needs_background": "light"
     },
     "output_type": "display_data"
    }
   ],
   "source": [
    "class_names=['0', '1'] # name  of classes\n",
    "fig, ax = plt.subplots()\n",
    "tick_marks = np.arange(len(class_names))\n",
    "# create heatmap\n",
    "sns.heatmap(cnf_matrix_tree, annot=True, cmap=\"YlGnBu\" ,fmt='d', xticklabels=class_names, yticklabels=class_names)\n",
    "ax.xaxis.set_label_position(\"top\")\n",
    "plt.tight_layout()\n",
    "plt.title('Confusion Matrix Decision Tree')\n",
    "plt.ylabel('Actual label')\n",
    "plt.xlabel('Predicted label')"
   ]
  },
  {
   "cell_type": "markdown",
   "metadata": {},
   "source": [
    "Neural Network"
   ]
  },
  {
   "cell_type": "code",
   "execution_count": 29,
   "metadata": {},
   "outputs": [
    {
     "data": {
      "text/plain": [
       "Text(0.5, 257.44, 'Predicted label')"
      ]
     },
     "execution_count": 29,
     "metadata": {},
     "output_type": "execute_result"
    },
    {
     "data": {
      "image/png": "[encoded data removed]",
      "text/plain": [
       "<Figure size 432x288 with 2 Axes>"
      ]
     },
     "metadata": {
      "needs_background": "light"
     },
     "output_type": "display_data"
    }
   ],
   "source": [
    "class_names=['0', '1'] # name  of classes\n",
    "fig, ax = plt.subplots()\n",
    "tick_marks = np.arange(len(class_names))\n",
    "# create heatmap\n",
    "sns.heatmap(cnf_matrix_neural, annot=True, cmap=\"YlGnBu\" ,fmt='d', xticklabels=class_names, yticklabels=class_names)\n",
    "ax.xaxis.set_label_position(\"top\")\n",
    "plt.tight_layout()\n",
    "plt.title('Confusion Matrix Neural Network')\n",
    "plt.ylabel('Actual label')\n",
    "plt.xlabel('Predicted label')"
   ]
  },
  {
   "cell_type": "markdown",
   "metadata": {},
   "source": [
    "## Saving Models"
   ]
  },
  {
   "cell_type": "code",
   "execution_count": 30,
   "metadata": {},
   "outputs": [],
   "source": [
    "# Import Libraries\n",
    "import pickle\n",
    "\n",
    "# Logistic Regression \n",
    "pickle.dump(logreg, open('LogRegModel.pkl', 'wb'))\n",
    "\n",
    "# SVM\n",
    "pickle.dump(svmClf, open('SVMModel.pkl', 'wb'))\n",
    "\n",
    "# Decision Tree\n",
    "pickle.dump(treeClf, open('TreeModel.pkl', 'wb'))\n",
    "\n",
    "# Neural Network\n",
    "#pickle.dump(neuralClf, open('NeuralNModel.pkl', 'wb'))"
   ]
  }
 ],
 "metadata": {
  "interpreter": {
   "hash": "08e780137cefc02a62b37e9d6f9e294c77017969c9404295e9c1eb6db8a00f70"
  },
  "kernelspec": {
   "display_name": "Python 3.8.12 64-bit ('base': conda)",
   "language": "python",
   "name": "python3"
  },
  "language_info": {
   "codemirror_mode": {
    "name": "ipython",
    "version": 3
   },
   "file_extension": ".py",
   "mimetype": "text/x-python",
   "name": "python",
   "nbconvert_exporter": "python",
   "pygments_lexer": "ipython3",
   "version": "3.8.12"
  },
  "orig_nbformat": 4
 },
 "nbformat": 4,
 "nbformat_minor": 2
}
