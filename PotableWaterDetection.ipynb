{
 "cells": [
  {
   "cell_type": "markdown",
   "metadata": {},
   "source": [
    "# Midterm Project: Potability Water Detection"
   ]
  },
  {
   "cell_type": "markdown",
   "metadata": {},
   "source": [
    "## Loading Database"
   ]
  },
  {
   "cell_type": "code",
   "execution_count": 1,
   "metadata": {},
   "outputs": [],
   "source": [
    "#import pandas\n",
    "import pandas as pd\n",
    "#loading csv file\n",
    "waters = pd.read_csv(\"water_potability.csv\")"
   ]
  },
  {
   "cell_type": "code",
   "execution_count": 2,
   "metadata": {},
   "outputs": [
    {
     "data": {
      "text/html": [
       "<div>\n",
       "<style scoped>\n",
       "    .dataframe tbody tr th:only-of-type {\n",
       "        vertical-align: middle;\n",
       "    }\n",
       "\n",
       "    .dataframe tbody tr th {\n",
       "        vertical-align: top;\n",
       "    }\n",
       "\n",
       "    .dataframe thead th {\n",
       "        text-align: right;\n",
       "    }\n",
       "</style>\n",
       "<table border=\"1\" class=\"dataframe\">\n",
       "  <thead>\n",
       "    <tr style=\"text-align: right;\">\n",
       "      <th></th>\n",
       "      <th>ph</th>\n",
       "      <th>Hardness</th>\n",
       "      <th>Solids</th>\n",
       "      <th>Chloramines</th>\n",
       "      <th>Sulfate</th>\n",
       "      <th>Conductivity</th>\n",
       "      <th>Organic_carbon</th>\n",
       "      <th>Trihalomethanes</th>\n",
       "      <th>Turbidity</th>\n",
       "      <th>Potability</th>\n",
       "    </tr>\n",
       "  </thead>\n",
       "  <tbody>\n",
       "    <tr>\n",
       "      <th>0</th>\n",
       "      <td>NaN</td>\n",
       "      <td>204.890455</td>\n",
       "      <td>20791.318981</td>\n",
       "      <td>7.300212</td>\n",
       "      <td>368.516441</td>\n",
       "      <td>564.308654</td>\n",
       "      <td>10.379783</td>\n",
       "      <td>86.990970</td>\n",
       "      <td>2.963135</td>\n",
       "      <td>0</td>\n",
       "    </tr>\n",
       "    <tr>\n",
       "      <th>1</th>\n",
       "      <td>3.716080</td>\n",
       "      <td>129.422921</td>\n",
       "      <td>18630.057858</td>\n",
       "      <td>6.635246</td>\n",
       "      <td>NaN</td>\n",
       "      <td>592.885359</td>\n",
       "      <td>15.180013</td>\n",
       "      <td>56.329076</td>\n",
       "      <td>4.500656</td>\n",
       "      <td>0</td>\n",
       "    </tr>\n",
       "    <tr>\n",
       "      <th>2</th>\n",
       "      <td>8.099124</td>\n",
       "      <td>224.236259</td>\n",
       "      <td>19909.541732</td>\n",
       "      <td>9.275884</td>\n",
       "      <td>NaN</td>\n",
       "      <td>418.606213</td>\n",
       "      <td>16.868637</td>\n",
       "      <td>66.420093</td>\n",
       "      <td>3.055934</td>\n",
       "      <td>0</td>\n",
       "    </tr>\n",
       "    <tr>\n",
       "      <th>3</th>\n",
       "      <td>8.316766</td>\n",
       "      <td>214.373394</td>\n",
       "      <td>22018.417441</td>\n",
       "      <td>8.059332</td>\n",
       "      <td>356.886136</td>\n",
       "      <td>363.266516</td>\n",
       "      <td>18.436524</td>\n",
       "      <td>100.341674</td>\n",
       "      <td>4.628771</td>\n",
       "      <td>0</td>\n",
       "    </tr>\n",
       "    <tr>\n",
       "      <th>4</th>\n",
       "      <td>9.092223</td>\n",
       "      <td>181.101509</td>\n",
       "      <td>17978.986339</td>\n",
       "      <td>6.546600</td>\n",
       "      <td>310.135738</td>\n",
       "      <td>398.410813</td>\n",
       "      <td>11.558279</td>\n",
       "      <td>31.997993</td>\n",
       "      <td>4.075075</td>\n",
       "      <td>0</td>\n",
       "    </tr>\n",
       "  </tbody>\n",
       "</table>\n",
       "</div>"
      ],
      "text/plain": [
       "         ph    Hardness        Solids  Chloramines     Sulfate  Conductivity  \\\n",
       "0       NaN  204.890455  20791.318981     7.300212  368.516441    564.308654   \n",
       "1  3.716080  129.422921  18630.057858     6.635246         NaN    592.885359   \n",
       "2  8.099124  224.236259  19909.541732     9.275884         NaN    418.606213   \n",
       "3  8.316766  214.373394  22018.417441     8.059332  356.886136    363.266516   \n",
       "4  9.092223  181.101509  17978.986339     6.546600  310.135738    398.410813   \n",
       "\n",
       "   Organic_carbon  Trihalomethanes  Turbidity  Potability  \n",
       "0       10.379783        86.990970   2.963135           0  \n",
       "1       15.180013        56.329076   4.500656           0  \n",
       "2       16.868637        66.420093   3.055934           0  \n",
       "3       18.436524       100.341674   4.628771           0  \n",
       "4       11.558279        31.997993   4.075075           0  "
      ]
     },
     "execution_count": 2,
     "metadata": {},
     "output_type": "execute_result"
    }
   ],
   "source": [
    "waters.head()"
   ]
  },
  {
   "cell_type": "markdown",
   "metadata": {},
   "source": [
    "##"
   ]
  },
  {
   "cell_type": "markdown",
   "metadata": {},
   "source": [
    "## Checking for Null Values"
   ]
  },
  {
   "cell_type": "code",
   "execution_count": 3,
   "metadata": {},
   "outputs": [
    {
     "data": {
      "text/plain": [
       "ph                 491\n",
       "Hardness             0\n",
       "Solids               0\n",
       "Chloramines          0\n",
       "Sulfate            781\n",
       "Conductivity         0\n",
       "Organic_carbon       0\n",
       "Trihalomethanes    162\n",
       "Turbidity            0\n",
       "Potability           0\n",
       "dtype: int64"
      ]
     },
     "execution_count": 3,
     "metadata": {},
     "output_type": "execute_result"
    }
   ],
   "source": [
    "#Check how many Null Values in each Column\n",
    "waters.isnull().sum()"
   ]
  },
  {
   "cell_type": "code",
   "execution_count": 4,
   "metadata": {},
   "outputs": [],
   "source": [
    "#Train Numerical Variables Missing Values\n",
    "waters['ph'].fillna(waters['ph'].median(), inplace=True)\n",
    "waters['Sulfate'].fillna(waters['Sulfate'].median(), inplace=True)\n",
    "waters['Trihalomethanes'].fillna(waters['Trihalomethanes'].median(), inplace=True)"
   ]
  },
  {
   "cell_type": "code",
   "execution_count": 5,
   "metadata": {},
   "outputs": [
    {
     "data": {
      "text/plain": [
       "ph                 0\n",
       "Hardness           0\n",
       "Solids             0\n",
       "Chloramines        0\n",
       "Sulfate            0\n",
       "Conductivity       0\n",
       "Organic_carbon     0\n",
       "Trihalomethanes    0\n",
       "Turbidity          0\n",
       "Potability         0\n",
       "dtype: int64"
      ]
     },
     "execution_count": 5,
     "metadata": {},
     "output_type": "execute_result"
    }
   ],
   "source": [
    "waters.isnull().sum()"
   ]
  },
  {
   "cell_type": "markdown",
   "metadata": {},
   "source": [
    "## Identifying Features and Target Variables"
   ]
  },
  {
   "cell_type": "code",
   "execution_count": 6,
   "metadata": {},
   "outputs": [],
   "source": [
    "#split dataset into features and target variables\n",
    "feature_cols = ['ph', 'Hardness', 'Solids', 'Chloramines', 'Sulfate', 'Conductivity', 'Organic_carbon', 'Trihalomethanes', 'Turbidity']\n",
    "X = waters[feature_cols]  #features\n",
    "y = waters.Potability     #target"
   ]
  },
  {
   "cell_type": "markdown",
   "metadata": {},
   "source": [
    "## Splitting Data into Training and Testing Data"
   ]
  },
  {
   "cell_type": "code",
   "execution_count": 7,
   "metadata": {},
   "outputs": [],
   "source": [
    "# split X and y into training and testing sets\n",
    "from sklearn.model_selection import train_test_split\n",
    "\n",
    "X_train, X_test, y_train, y_test = train_test_split(X, y, test_size=0.2)"
   ]
  },
  {
   "cell_type": "markdown",
   "metadata": {},
   "source": [
    "## Training Logistic Regression Model"
   ]
  },
  {
   "cell_type": "code",
   "execution_count": 8,
   "metadata": {},
   "outputs": [
    {
     "data": {
      "text/plain": [
       "LogisticRegression(max_iter=2001)"
      ]
     },
     "execution_count": 8,
     "metadata": {},
     "output_type": "execute_result"
    }
   ],
   "source": [
    "# import the class\n",
    "from sklearn.linear_model import LogisticRegression\n",
    "# instantiate the model (using the default parameters)\n",
    "logreg = LogisticRegression(solver='lbfgs', max_iter=2001)\n",
    "\n",
    "# fit the model with data\n",
    "logreg.fit(X_train,y_train)"
   ]
  },
  {
   "cell_type": "markdown",
   "metadata": {},
   "source": [
    "## Training SVM Model"
   ]
  },
  {
   "cell_type": "code",
   "execution_count": 9,
   "metadata": {},
   "outputs": [
    {
     "data": {
      "text/plain": [
       "SVC(kernel='linear')"
      ]
     },
     "execution_count": 9,
     "metadata": {},
     "output_type": "execute_result"
    }
   ],
   "source": [
    "#import svm model\n",
    "from sklearn import svm\n",
    "\n",
    "#create a svm Classifier\n",
    "clf = svm.SVC(kernel='linear') #Linear Kernel\n",
    "\n",
    "#Train the model using the trainings sets\n",
    "clf.fit(X_train, y_train)"
   ]
  },
  {
   "cell_type": "markdown",
   "metadata": {},
   "source": [
    "## Training Decision Tree Model"
   ]
  },
  {
   "cell_type": "code",
   "execution_count": 10,
   "metadata": {},
   "outputs": [
    {
     "data": {
      "text/plain": [
       "DecisionTreeClassifier()"
      ]
     },
     "execution_count": 10,
     "metadata": {},
     "output_type": "execute_result"
    }
   ],
   "source": [
    "from sklearn.tree import DecisionTreeClassifier\n",
    "classifier = DecisionTreeClassifier()\n",
    "classifier.fit(X_train, y_train)"
   ]
  },
  {
   "cell_type": "markdown",
   "metadata": {},
   "source": [
    "## Prediction with Log. Regression, SVM, and Decision Tree"
   ]
  },
  {
   "cell_type": "code",
   "execution_count": 11,
   "metadata": {},
   "outputs": [],
   "source": [
    "#Predict the response for test datasets\n",
    "y_pred_svm = clf.predict(X_test)\n",
    "\n",
    "y_pred_log = logreg.predict(X_test)\n",
    "\n",
    "y_pred_tree = classifier.predict(X_test)\n",
    "\n",
    "# compute the accuracy\n",
    "import numpy as np\n",
    "accuracy_svm = np.sum(y_pred_svm == y_test) / len(y_test)\n",
    "\n",
    "accuracy_log = np.sum(y_pred_log == y_test) / len(y_test)\n",
    "\n",
    "accuracy_tree = np.sum(y_pred_tree == y_test) / len(y_test)"
   ]
  },
  {
   "cell_type": "markdown",
   "metadata": {},
   "source": [
    "## Training Neural Network"
   ]
  },
  {
   "cell_type": "code",
   "execution_count": 12,
   "metadata": {},
   "outputs": [],
   "source": [
    "from sklearn.preprocessing import MinMaxScaler\n",
    "scalar = MinMaxScaler()\n",
    "scalar.fit(X)\n",
    "X = scalar.transform(X)"
   ]
  },
  {
   "cell_type": "code",
   "execution_count": 13,
   "metadata": {},
   "outputs": [],
   "source": [
    "from sklearn.model_selection import train_test_split\n",
    "X_train, X_test, y_train, y_test = train_test_split(X, y, test_size = 0.2)"
   ]
  },
  {
   "cell_type": "code",
   "execution_count": 14,
   "metadata": {},
   "outputs": [
    {
     "data": {
      "text/plain": [
       "(2620, 9)"
      ]
     },
     "execution_count": 14,
     "metadata": {},
     "output_type": "execute_result"
    }
   ],
   "source": [
    "X_train.shape"
   ]
  },
  {
   "cell_type": "code",
   "execution_count": 15,
   "metadata": {},
   "outputs": [],
   "source": [
    "from tensorflow.keras.models import Sequential\n",
    "from tensorflow.keras.layers import Dense\n",
    "\n",
    "model = Sequential()\n",
    "model.add(Dense(16, input_dim = 9, activation = 'relu'))\n",
    "model.add(Dense(7, activation='relu'))\n",
    "model.add(Dense(2, activation='relu'))\n",
    "#model.add(Dense(6, activation='relu'))\n",
    "model.add(Dense(1, activation='sigmoid'))"
   ]
  },
  {
   "cell_type": "code",
   "execution_count": 16,
   "metadata": {},
   "outputs": [],
   "source": [
    "model.compile(loss='binary_crossentropy', optimizer='adam', metrics=['accuracy'])"
   ]
  },
  {
   "cell_type": "code",
   "execution_count": 17,
   "metadata": {},
   "outputs": [
    {
     "data": {
      "text/plain": [
       "<bound method Model.summary of <keras.engine.sequential.Sequential object at 0x0000023FDA098310>>"
      ]
     },
     "execution_count": 17,
     "metadata": {},
     "output_type": "execute_result"
    }
   ],
   "source": [
    "model.summary"
   ]
  },
  {
   "cell_type": "code",
   "execution_count": 18,
   "metadata": {},
   "outputs": [
    {
     "name": "stdout",
     "output_type": "stream",
     "text": [
      "Epoch 1/50\n",
      "164/164 [==============================] - 0s 515us/step - loss: 0.6879 - accuracy: 0.6107\n",
      "Epoch 2/50\n",
      "164/164 [==============================] - 0s 515us/step - loss: 0.6799 - accuracy: 0.6107\n",
      "Epoch 3/50\n",
      "164/164 [==============================] - 0s 515us/step - loss: 0.6751 - accuracy: 0.6107\n",
      "Epoch 4/50\n",
      "164/164 [==============================] - 0s 528us/step - loss: 0.6722 - accuracy: 0.6107\n",
      "Epoch 5/50\n",
      "164/164 [==============================] - 0s 522us/step - loss: 0.6706 - accuracy: 0.6107\n",
      "Epoch 6/50\n",
      "164/164 [==============================] - 0s 485us/step - loss: 0.6696 - accuracy: 0.6107\n",
      "Epoch 7/50\n",
      "164/164 [==============================] - 0s 528us/step - loss: 0.6691 - accuracy: 0.6107\n",
      "Epoch 8/50\n",
      "164/164 [==============================] - 0s 485us/step - loss: 0.6688 - accuracy: 0.6107\n",
      "Epoch 9/50\n",
      "164/164 [==============================] - 0s 503us/step - loss: 0.6687 - accuracy: 0.6107\n",
      "Epoch 10/50\n",
      "164/164 [==============================] - 0s 497us/step - loss: 0.6686 - accuracy: 0.6107\n",
      "Epoch 11/50\n",
      "164/164 [==============================] - 0s 503us/step - loss: 0.6685 - accuracy: 0.6107\n",
      "Epoch 12/50\n",
      "164/164 [==============================] - 0s 491us/step - loss: 0.6685 - accuracy: 0.6107\n",
      "Epoch 13/50\n",
      "164/164 [==============================] - 0s 509us/step - loss: 0.6685 - accuracy: 0.6107\n",
      "Epoch 14/50\n",
      "164/164 [==============================] - 0s 497us/step - loss: 0.6685 - accuracy: 0.6107\n",
      "Epoch 15/50\n",
      "164/164 [==============================] - 0s 503us/step - loss: 0.6685 - accuracy: 0.6107\n",
      "Epoch 16/50\n",
      "164/164 [==============================] - 0s 485us/step - loss: 0.6685 - accuracy: 0.6107\n",
      "Epoch 17/50\n",
      "164/164 [==============================] - 0s 491us/step - loss: 0.6685 - accuracy: 0.6107\n",
      "Epoch 18/50\n",
      "164/164 [==============================] - 0s 503us/step - loss: 0.6685 - accuracy: 0.6107\n",
      "Epoch 19/50\n",
      "164/164 [==============================] - 0s 491us/step - loss: 0.6685 - accuracy: 0.6107\n",
      "Epoch 20/50\n",
      "164/164 [==============================] - 0s 509us/step - loss: 0.6685 - accuracy: 0.6107\n",
      "Epoch 21/50\n",
      "164/164 [==============================] - 0s 491us/step - loss: 0.6685 - accuracy: 0.6107\n",
      "Epoch 22/50\n",
      "164/164 [==============================] - 0s 491us/step - loss: 0.6685 - accuracy: 0.6107\n",
      "Epoch 23/50\n",
      "164/164 [==============================] - 0s 503us/step - loss: 0.6685 - accuracy: 0.6107\n",
      "Epoch 24/50\n",
      "164/164 [==============================] - 0s 497us/step - loss: 0.6685 - accuracy: 0.6107\n",
      "Epoch 25/50\n",
      "164/164 [==============================] - 0s 497us/step - loss: 0.6685 - accuracy: 0.6107\n",
      "Epoch 26/50\n",
      "164/164 [==============================] - 0s 583us/step - loss: 0.6685 - accuracy: 0.6107\n",
      "Epoch 27/50\n",
      "164/164 [==============================] - 0s 577us/step - loss: 0.6685 - accuracy: 0.6107\n",
      "Epoch 28/50\n",
      "164/164 [==============================] - 0s 528us/step - loss: 0.6685 - accuracy: 0.6107\n",
      "Epoch 29/50\n",
      "164/164 [==============================] - 0s 497us/step - loss: 0.6685 - accuracy: 0.6107\n",
      "Epoch 30/50\n",
      "164/164 [==============================] - 0s 503us/step - loss: 0.6685 - accuracy: 0.6107\n",
      "Epoch 31/50\n",
      "164/164 [==============================] - 0s 503us/step - loss: 0.6685 - accuracy: 0.6107\n",
      "Epoch 32/50\n",
      "164/164 [==============================] - 0s 509us/step - loss: 0.6685 - accuracy: 0.6107\n",
      "Epoch 33/50\n",
      "164/164 [==============================] - 0s 509us/step - loss: 0.6685 - accuracy: 0.6107\n",
      "Epoch 34/50\n",
      "164/164 [==============================] - 0s 515us/step - loss: 0.6685 - accuracy: 0.6107\n",
      "Epoch 35/50\n",
      "164/164 [==============================] - 0s 503us/step - loss: 0.6685 - accuracy: 0.6107\n",
      "Epoch 36/50\n",
      "164/164 [==============================] - 0s 522us/step - loss: 0.6685 - accuracy: 0.6107\n",
      "Epoch 37/50\n",
      "164/164 [==============================] - 0s 528us/step - loss: 0.6685 - accuracy: 0.6107\n",
      "Epoch 38/50\n",
      "164/164 [==============================] - 0s 546us/step - loss: 0.6685 - accuracy: 0.6107\n",
      "Epoch 39/50\n",
      "164/164 [==============================] - 0s 515us/step - loss: 0.6685 - accuracy: 0.6107\n",
      "Epoch 40/50\n",
      "164/164 [==============================] - 0s 515us/step - loss: 0.6685 - accuracy: 0.6107\n",
      "Epoch 41/50\n",
      "164/164 [==============================] - 0s 522us/step - loss: 0.6685 - accuracy: 0.6107\n",
      "Epoch 42/50\n",
      "164/164 [==============================] - 0s 497us/step - loss: 0.6685 - accuracy: 0.6107\n",
      "Epoch 43/50\n",
      "164/164 [==============================] - 0s 503us/step - loss: 0.6685 - accuracy: 0.6107\n",
      "Epoch 44/50\n",
      "164/164 [==============================] - 0s 509us/step - loss: 0.6685 - accuracy: 0.6107\n",
      "Epoch 45/50\n",
      "164/164 [==============================] - 0s 497us/step - loss: 0.6685 - accuracy: 0.6107\n",
      "Epoch 46/50\n",
      "164/164 [==============================] - 0s 509us/step - loss: 0.6685 - accuracy: 0.6107\n",
      "Epoch 47/50\n",
      "164/164 [==============================] - 0s 509us/step - loss: 0.6685 - accuracy: 0.6107\n",
      "Epoch 48/50\n",
      "164/164 [==============================] - 0s 503us/step - loss: 0.6685 - accuracy: 0.6107\n",
      "Epoch 49/50\n",
      "164/164 [==============================] - 0s 497us/step - loss: 0.6685 - accuracy: 0.6107\n",
      "Epoch 50/50\n",
      "164/164 [==============================] - 0s 503us/step - loss: 0.6685 - accuracy: 0.6107\n"
     ]
    }
   ],
   "source": [
    "history = model.fit(X_train, y_train, epochs=50, batch_size=16)"
   ]
  },
  {
   "cell_type": "markdown",
   "metadata": {},
   "source": [
    "## Prediction with Neural Network"
   ]
  },
  {
   "cell_type": "code",
   "execution_count": 19,
   "metadata": {},
   "outputs": [
    {
     "name": "stdout",
     "output_type": "stream",
     "text": [
      "21/21 [==============================] - 0s 450us/step - loss: 0.6702 - accuracy: 0.6067\n",
      "82/82 [==============================] - 0s 531us/step - loss: 0.6685 - accuracy: 0.6107\n"
     ]
    }
   ],
   "source": [
    "model.predict(X_test)\n",
    "model.evaluate(X_test, y_test)[1]\n",
    "model.fit(X_train, y_train)\n",
    "predictions = model.predict(X_test)\n",
    "y_pred_neural = (model.predict(X_test) > 0.5).astype(int)"
   ]
  },
  {
   "cell_type": "markdown",
   "metadata": {},
   "source": [
    "## Computation of Accuracy and Comparison"
   ]
  },
  {
   "cell_type": "code",
   "execution_count": 20,
   "metadata": {},
   "outputs": [
    {
     "name": "stdout",
     "output_type": "stream",
     "text": [
      "Test Accuracy of the SVM is:\n",
      "0.573170731707317\n",
      "Test Accuracy of the Logistic Model is:\n",
      "0.5685975609756098\n",
      "Test Accuracy of the Decision Tree Model is\n",
      "0.5487804878048781\n",
      "The difference (SVM - Logistic):\n",
      "0.004573170731707266\n"
     ]
    }
   ],
   "source": [
    "print('Test Accuracy of the SVM is:')\n",
    "print(accuracy_svm)\n",
    "print('Test Accuracy of the Logistic Model is:')\n",
    "print(accuracy_log)\n",
    "print('Test Accuracy of the Decision Tree Model is')\n",
    "print(accuracy_tree)\n",
    "print('The difference (SVM - Logistic):')\n",
    "print(accuracy_svm - accuracy_log)"
   ]
  },
  {
   "cell_type": "markdown",
   "metadata": {},
   "source": [
    "# Confusion Matrices"
   ]
  },
  {
   "cell_type": "markdown",
   "metadata": {},
   "source": [
    "## Logistic Regression"
   ]
  },
  {
   "cell_type": "code",
   "execution_count": 21,
   "metadata": {},
   "outputs": [
    {
     "data": {
      "text/plain": [
       "array([[398,   0],\n",
       "       [258,   0]], dtype=int64)"
      ]
     },
     "execution_count": 21,
     "metadata": {},
     "output_type": "execute_result"
    }
   ],
   "source": [
    "# import the metrics class\n",
    "from sklearn import metrics\n",
    "# Confusion Matrix for Logistic Regression\n",
    "cnf_matrix_log = metrics.confusion_matrix(y_test, y_pred_log)\n",
    "cnf_matrix_log"
   ]
  },
  {
   "cell_type": "markdown",
   "metadata": {},
   "source": [
    "## SVM Model"
   ]
  },
  {
   "cell_type": "code",
   "execution_count": 22,
   "metadata": {},
   "outputs": [
    {
     "data": {
      "text/plain": [
       "array([[396,   2],\n",
       "       [255,   3]], dtype=int64)"
      ]
     },
     "execution_count": 22,
     "metadata": {},
     "output_type": "execute_result"
    }
   ],
   "source": [
    "# import the metrics class\n",
    "from sklearn import metrics\n",
    "# Confusion Matrix for Logistic Regression\n",
    "cnf_matrix_svm = metrics.confusion_matrix(y_test, y_pred_svm)\n",
    "cnf_matrix_svm"
   ]
  },
  {
   "cell_type": "markdown",
   "metadata": {},
   "source": [
    "## Decision Tree"
   ]
  },
  {
   "cell_type": "code",
   "execution_count": 23,
   "metadata": {},
   "outputs": [
    {
     "data": {
      "text/plain": [
       "array([[241, 157],\n",
       "       [152, 106]], dtype=int64)"
      ]
     },
     "execution_count": 23,
     "metadata": {},
     "output_type": "execute_result"
    }
   ],
   "source": [
    "# import the metrics class\n",
    "from sklearn import metrics\n",
    "# Confusion Matrix for Logistic Regression\n",
    "cnf_matrix_tree = metrics.confusion_matrix(y_test, y_pred_tree)\n",
    "cnf_matrix_tree"
   ]
  },
  {
   "cell_type": "markdown",
   "metadata": {},
   "source": [
    "## Neural Network"
   ]
  },
  {
   "cell_type": "code",
   "execution_count": 24,
   "metadata": {},
   "outputs": [
    {
     "data": {
      "text/plain": [
       "656"
      ]
     },
     "execution_count": 24,
     "metadata": {},
     "output_type": "execute_result"
    }
   ],
   "source": [
    "y_pred_neural.size"
   ]
  },
  {
   "cell_type": "code",
   "execution_count": 25,
   "metadata": {},
   "outputs": [
    {
     "data": {
      "text/plain": [
       "array([[398,   0],\n",
       "       [258,   0]], dtype=int64)"
      ]
     },
     "execution_count": 25,
     "metadata": {},
     "output_type": "execute_result"
    }
   ],
   "source": [
    "# import the metrics class\n",
    "from sklearn import metrics\n",
    "# Confusion Matrix for Logistic Regression\n",
    "cnf_matrix_neural = metrics.confusion_matrix(y_test, y_pred_neural)\n",
    "cnf_matrix_neural"
   ]
  },
  {
   "cell_type": "markdown",
   "metadata": {},
   "source": [
    "## Visualizing Confusion Matrix using HeatMap"
   ]
  },
  {
   "cell_type": "code",
   "execution_count": 26,
   "metadata": {},
   "outputs": [],
   "source": [
    "import matplotlib.pyplot as plt\n",
    "import seaborn as sns\n",
    "import numpy as np\n",
    "%matplotlib inline"
   ]
  },
  {
   "cell_type": "markdown",
   "metadata": {},
   "source": [
    "Logistic Regression"
   ]
  },
  {
   "cell_type": "code",
   "execution_count": 27,
   "metadata": {},
   "outputs": [
    {
     "data": {
      "text/plain": [
       "Text(0.5, 257.44, 'Predicted label')"
      ]
     },
     "execution_count": 27,
     "metadata": {},
     "output_type": "execute_result"
    },
    {
     "data": {
      "image/png": "[encoded data removed]",
      "text/plain": [
       "<Figure size 432x288 with 2 Axes>"
      ]
     },
     "metadata": {
      "needs_background": "light"
     },
     "output_type": "display_data"
    }
   ],
   "source": [
    "class_names=['0', '1'] # name  of classes\n",
    "fig, ax = plt.subplots()\n",
    "tick_marks = np.arange(len(class_names))\n",
    "# create heatmap\n",
    "sns.heatmap(cnf_matrix_log, annot=True, cmap=\"YlGnBu\" ,fmt='d', xticklabels=class_names, yticklabels=class_names)\n",
    "ax.xaxis.set_label_position(\"top\")\n",
    "plt.tight_layout()\n",
    "plt.title('Confusion Matrix Logistic Regresion')\n",
    "plt.ylabel('Actual label')\n",
    "plt.xlabel('Predicted label')"
   ]
  },
  {
   "cell_type": "markdown",
   "metadata": {},
   "source": [
    "Decision Tree"
   ]
  },
  {
   "cell_type": "code",
   "execution_count": 28,
   "metadata": {},
   "outputs": [
    {
     "data": {
      "text/plain": [
       "Text(0.5, 257.44, 'Predicted label')"
      ]
     },
     "execution_count": 28,
     "metadata": {},
     "output_type": "execute_result"
    },
    {
     "data": {
      "image/png": "[encoded data removed]",
      "text/plain": [
       "<Figure size 432x288 with 2 Axes>"
      ]
     },
     "metadata": {
      "needs_background": "light"
     },
     "output_type": "display_data"
    }
   ],
   "source": [
    "class_names=['0', '1'] # name  of classes\n",
    "fig, ax = plt.subplots()\n",
    "tick_marks = np.arange(len(class_names))\n",
    "# create heatmap\n",
    "sns.heatmap(cnf_matrix_svm, annot=True, cmap=\"YlGnBu\" ,fmt='d', xticklabels=class_names, yticklabels=class_names)\n",
    "ax.xaxis.set_label_position(\"top\")\n",
    "plt.tight_layout()\n",
    "plt.title('Confusion Matrix SVM')\n",
    "plt.ylabel('Actual label')\n",
    "plt.xlabel('Predicted label')"
   ]
  },
  {
   "cell_type": "markdown",
   "metadata": {},
   "source": [
    "Decision Tree"
   ]
  },
  {
   "cell_type": "code",
   "execution_count": 29,
   "metadata": {},
   "outputs": [
    {
     "data": {
      "text/plain": [
       "Text(0.5, 257.44, 'Predicted label')"
      ]
     },
     "execution_count": 29,
     "metadata": {},
     "output_type": "execute_result"
    },
    {
     "data": {
      "image/png": "[encoded data removed]",
      "text/plain": [
       "<Figure size 432x288 with 2 Axes>"
      ]
     },
     "metadata": {
      "needs_background": "light"
     },
     "output_type": "display_data"
    }
   ],
   "source": [
    "class_names=['0', '1'] # name  of classes\n",
    "fig, ax = plt.subplots()\n",
    "tick_marks = np.arange(len(class_names))\n",
    "# create heatmap\n",
    "sns.heatmap(cnf_matrix_tree, annot=True, cmap=\"YlGnBu\" ,fmt='d', xticklabels=class_names, yticklabels=class_names)\n",
    "ax.xaxis.set_label_position(\"top\")\n",
    "plt.tight_layout()\n",
    "plt.title('Confusion Matrix Decision Tree')\n",
    "plt.ylabel('Actual label')\n",
    "plt.xlabel('Predicted label')"
   ]
  },
  {
   "cell_type": "markdown",
   "metadata": {},
   "source": [
    "Neural Network"
   ]
  },
  {
   "cell_type": "code",
   "execution_count": 30,
   "metadata": {},
   "outputs": [
    {
     "data": {
      "text/plain": [
       "Text(0.5, 257.44, 'Predicted label')"
      ]
     },
     "execution_count": 30,
     "metadata": {},
     "output_type": "execute_result"
    },
    {
     "data": {
      "image/png": "[encoded data removed]",
      "text/plain": [
       "<Figure size 432x288 with 2 Axes>"
      ]
     },
     "metadata": {
      "needs_background": "light"
     },
     "output_type": "display_data"
    }
   ],
   "source": [
    "class_names=['0', '1'] # name  of classes\n",
    "fig, ax = plt.subplots()\n",
    "tick_marks = np.arange(len(class_names))\n",
    "# create heatmap\n",
    "sns.heatmap(cnf_matrix_neural, annot=True, cmap=\"YlGnBu\" ,fmt='d', xticklabels=class_names, yticklabels=class_names)\n",
    "ax.xaxis.set_label_position(\"top\")\n",
    "plt.tight_layout()\n",
    "plt.title('Confusion Matrix Neural Network')\n",
    "plt.ylabel('Actual label')\n",
    "plt.xlabel('Predicted label')"
   ]
  }
 ],
 "metadata": {
  "interpreter": {
   "hash": "08e780137cefc02a62b37e9d6f9e294c77017969c9404295e9c1eb6db8a00f70"
  },
  "kernelspec": {
   "display_name": "Python 3.8.12 64-bit ('base': conda)",
   "language": "python",
   "name": "python3"
  },
  "language_info": {
   "codemirror_mode": {
    "name": "ipython",
    "version": 3
   },
   "file_extension": ".py",
   "mimetype": "text/x-python",
   "name": "python",
   "nbconvert_exporter": "python",
   "pygments_lexer": "ipython3",
   "version": "3.8.12"
  },
  "orig_nbformat": 4
 },
 "nbformat": 4,
 "nbformat_minor": 2
}
